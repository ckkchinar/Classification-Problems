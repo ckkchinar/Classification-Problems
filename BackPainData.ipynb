{
 "cells": [
  {
   "cell_type": "markdown",
   "metadata": {
    "_uuid": "6d24889e8175ca8987fd0d0e2dd2b74bf1c6c739",
    "colab_type": "text",
    "id": "EjWAPEqhbt_-"
   },
   "source": [
    "### Backpain\n",
    "- The data comprises of 13 columns and 310 observations.\n",
    "- 12 columns are numerical attributes of the spine/ back. \n",
    "- The last column is the Status of the patient - Abnormal indicates presence of Back pain and Normal indicates no back pain.\n",
    "- The intent is to predict the Status based on the 12 variables. "
   ]
  },
  {
   "cell_type": "code",
   "execution_count": 1,
   "metadata": {
    "_cell_guid": "b1076dfc-b9ad-4769-8c92-a6c4dae69d19",
    "_uuid": "8f2839f25d086af736a60e9eeb907d3b93b6e0e5",
    "colab": {},
    "colab_type": "code",
    "id": "b67gM9LSbt__"
   },
   "outputs": [],
   "source": [
    "#Loading the necessary libraries\n",
    "import numpy as np # linear algebra\n",
    "import pandas as pd # data processing, CSV file I/O (e.g. pd.read_csv)\n",
    "\n",
    "import os\n",
    "\n",
    "\n",
    "import matplotlib.pyplot as plt\n",
    "import seaborn as sns\n",
    "\n",
    "from sklearn import preprocessing\n",
    "from sklearn.linear_model import LogisticRegression\n",
    "from sklearn.model_selection import train_test_split\n",
    "import statsmodels.api as sm"
   ]
  },
  {
   "cell_type": "code",
   "execution_count": 2,
   "metadata": {
    "_uuid": "b0eb0f23e708da845d757429778f2162a1668ebd",
    "colab": {},
    "colab_type": "code",
    "id": "isGZz7yKbuAD"
   },
   "outputs": [],
   "source": [
    "back_data = pd.read_csv(\"backpain.csv\")"
   ]
  },
  {
   "cell_type": "code",
   "execution_count": 3,
   "metadata": {
    "colab": {},
    "colab_type": "code",
    "id": "3VLPXTg2buAF",
    "outputId": "0cb4b51d-b76b-494d-f0a9-dad35ffddd0e"
   },
   "outputs": [
    {
     "data": {
      "text/html": [
       "<div>\n",
       "<style scoped>\n",
       "    .dataframe tbody tr th:only-of-type {\n",
       "        vertical-align: middle;\n",
       "    }\n",
       "\n",
       "    .dataframe tbody tr th {\n",
       "        vertical-align: top;\n",
       "    }\n",
       "\n",
       "    .dataframe thead th {\n",
       "        text-align: right;\n",
       "    }\n",
       "</style>\n",
       "<table border=\"1\" class=\"dataframe\">\n",
       "  <thead>\n",
       "    <tr style=\"text-align: right;\">\n",
       "      <th></th>\n",
       "      <th>Col1</th>\n",
       "      <th>Col2</th>\n",
       "      <th>Col3</th>\n",
       "      <th>Col4</th>\n",
       "      <th>Col5</th>\n",
       "      <th>Col6</th>\n",
       "      <th>Col7</th>\n",
       "      <th>Col8</th>\n",
       "      <th>Col9</th>\n",
       "      <th>Col10</th>\n",
       "      <th>Col11</th>\n",
       "      <th>Col12</th>\n",
       "      <th>Class_att</th>\n",
       "      <th>Unnamed: 13</th>\n",
       "    </tr>\n",
       "  </thead>\n",
       "  <tbody>\n",
       "    <tr>\n",
       "      <td>0</td>\n",
       "      <td>63.027818</td>\n",
       "      <td>22.552586</td>\n",
       "      <td>39.609117</td>\n",
       "      <td>40.475232</td>\n",
       "      <td>98.672917</td>\n",
       "      <td>-0.254400</td>\n",
       "      <td>0.744503</td>\n",
       "      <td>12.5661</td>\n",
       "      <td>14.5386</td>\n",
       "      <td>15.30468</td>\n",
       "      <td>-28.658501</td>\n",
       "      <td>43.5123</td>\n",
       "      <td>Abnormal</td>\n",
       "      <td>NaN</td>\n",
       "    </tr>\n",
       "    <tr>\n",
       "      <td>1</td>\n",
       "      <td>39.056951</td>\n",
       "      <td>10.060991</td>\n",
       "      <td>25.015378</td>\n",
       "      <td>28.995960</td>\n",
       "      <td>114.405425</td>\n",
       "      <td>4.564259</td>\n",
       "      <td>0.415186</td>\n",
       "      <td>12.8874</td>\n",
       "      <td>17.5323</td>\n",
       "      <td>16.78486</td>\n",
       "      <td>-25.530607</td>\n",
       "      <td>16.1102</td>\n",
       "      <td>Abnormal</td>\n",
       "      <td>NaN</td>\n",
       "    </tr>\n",
       "    <tr>\n",
       "      <td>2</td>\n",
       "      <td>68.832021</td>\n",
       "      <td>22.218482</td>\n",
       "      <td>50.092194</td>\n",
       "      <td>46.613539</td>\n",
       "      <td>105.985135</td>\n",
       "      <td>-3.530317</td>\n",
       "      <td>0.474889</td>\n",
       "      <td>26.8343</td>\n",
       "      <td>17.4861</td>\n",
       "      <td>16.65897</td>\n",
       "      <td>-29.031888</td>\n",
       "      <td>19.2221</td>\n",
       "      <td>Abnormal</td>\n",
       "      <td>Prediction is done by using binary classificat...</td>\n",
       "    </tr>\n",
       "    <tr>\n",
       "      <td>3</td>\n",
       "      <td>69.297008</td>\n",
       "      <td>24.652878</td>\n",
       "      <td>44.311238</td>\n",
       "      <td>44.644130</td>\n",
       "      <td>101.868495</td>\n",
       "      <td>11.211523</td>\n",
       "      <td>0.369345</td>\n",
       "      <td>23.5603</td>\n",
       "      <td>12.7074</td>\n",
       "      <td>11.42447</td>\n",
       "      <td>-30.470246</td>\n",
       "      <td>18.8329</td>\n",
       "      <td>Abnormal</td>\n",
       "      <td>NaN</td>\n",
       "    </tr>\n",
       "    <tr>\n",
       "      <td>4</td>\n",
       "      <td>49.712859</td>\n",
       "      <td>9.652075</td>\n",
       "      <td>28.317406</td>\n",
       "      <td>40.060784</td>\n",
       "      <td>108.168725</td>\n",
       "      <td>7.918501</td>\n",
       "      <td>0.543360</td>\n",
       "      <td>35.4940</td>\n",
       "      <td>15.9546</td>\n",
       "      <td>8.87237</td>\n",
       "      <td>-16.378376</td>\n",
       "      <td>24.9171</td>\n",
       "      <td>Abnormal</td>\n",
       "      <td>NaN</td>\n",
       "    </tr>\n",
       "    <tr>\n",
       "      <td>5</td>\n",
       "      <td>40.250200</td>\n",
       "      <td>13.921907</td>\n",
       "      <td>25.124950</td>\n",
       "      <td>26.328293</td>\n",
       "      <td>130.327871</td>\n",
       "      <td>2.230652</td>\n",
       "      <td>0.789993</td>\n",
       "      <td>29.3230</td>\n",
       "      <td>12.0036</td>\n",
       "      <td>10.40462</td>\n",
       "      <td>-1.512209</td>\n",
       "      <td>9.6548</td>\n",
       "      <td>Abnormal</td>\n",
       "      <td>Attribute1  = pelvic_incidence  (numeric)</td>\n",
       "    </tr>\n",
       "    <tr>\n",
       "      <td>6</td>\n",
       "      <td>53.432928</td>\n",
       "      <td>15.864336</td>\n",
       "      <td>37.165934</td>\n",
       "      <td>37.568592</td>\n",
       "      <td>120.567523</td>\n",
       "      <td>5.988551</td>\n",
       "      <td>0.198920</td>\n",
       "      <td>13.8514</td>\n",
       "      <td>10.7146</td>\n",
       "      <td>11.37832</td>\n",
       "      <td>-20.510434</td>\n",
       "      <td>25.9477</td>\n",
       "      <td>Abnormal</td>\n",
       "      <td>Attribute2 = pelvic_tilt (numeric)</td>\n",
       "    </tr>\n",
       "    <tr>\n",
       "      <td>7</td>\n",
       "      <td>45.366754</td>\n",
       "      <td>10.755611</td>\n",
       "      <td>29.038349</td>\n",
       "      <td>34.611142</td>\n",
       "      <td>117.270068</td>\n",
       "      <td>-10.675871</td>\n",
       "      <td>0.131973</td>\n",
       "      <td>28.8165</td>\n",
       "      <td>7.7676</td>\n",
       "      <td>7.60961</td>\n",
       "      <td>-25.111459</td>\n",
       "      <td>26.3543</td>\n",
       "      <td>Abnormal</td>\n",
       "      <td>Attribute3 = lumbar_lordosis_angle (numeric)</td>\n",
       "    </tr>\n",
       "    <tr>\n",
       "      <td>8</td>\n",
       "      <td>43.790190</td>\n",
       "      <td>13.533753</td>\n",
       "      <td>42.690814</td>\n",
       "      <td>30.256437</td>\n",
       "      <td>125.002893</td>\n",
       "      <td>13.289018</td>\n",
       "      <td>0.190408</td>\n",
       "      <td>22.7085</td>\n",
       "      <td>11.4234</td>\n",
       "      <td>10.59188</td>\n",
       "      <td>-20.020075</td>\n",
       "      <td>40.0276</td>\n",
       "      <td>Abnormal</td>\n",
       "      <td>Attribute4 = sacral_slope (numeric)</td>\n",
       "    </tr>\n",
       "    <tr>\n",
       "      <td>9</td>\n",
       "      <td>36.686353</td>\n",
       "      <td>5.010884</td>\n",
       "      <td>41.948751</td>\n",
       "      <td>31.675469</td>\n",
       "      <td>84.241415</td>\n",
       "      <td>0.664437</td>\n",
       "      <td>0.367700</td>\n",
       "      <td>26.2011</td>\n",
       "      <td>8.7380</td>\n",
       "      <td>14.91416</td>\n",
       "      <td>-1.702097</td>\n",
       "      <td>21.4320</td>\n",
       "      <td>Abnormal</td>\n",
       "      <td>Attribute5 = pelvic_radius (numeric)</td>\n",
       "    </tr>\n",
       "  </tbody>\n",
       "</table>\n",
       "</div>"
      ],
      "text/plain": [
       "        Col1       Col2       Col3       Col4        Col5       Col6  \\\n",
       "0  63.027818  22.552586  39.609117  40.475232   98.672917  -0.254400   \n",
       "1  39.056951  10.060991  25.015378  28.995960  114.405425   4.564259   \n",
       "2  68.832021  22.218482  50.092194  46.613539  105.985135  -3.530317   \n",
       "3  69.297008  24.652878  44.311238  44.644130  101.868495  11.211523   \n",
       "4  49.712859   9.652075  28.317406  40.060784  108.168725   7.918501   \n",
       "5  40.250200  13.921907  25.124950  26.328293  130.327871   2.230652   \n",
       "6  53.432928  15.864336  37.165934  37.568592  120.567523   5.988551   \n",
       "7  45.366754  10.755611  29.038349  34.611142  117.270068 -10.675871   \n",
       "8  43.790190  13.533753  42.690814  30.256437  125.002893  13.289018   \n",
       "9  36.686353   5.010884  41.948751  31.675469   84.241415   0.664437   \n",
       "\n",
       "       Col7     Col8     Col9     Col10      Col11    Col12 Class_att  \\\n",
       "0  0.744503  12.5661  14.5386  15.30468 -28.658501  43.5123  Abnormal   \n",
       "1  0.415186  12.8874  17.5323  16.78486 -25.530607  16.1102  Abnormal   \n",
       "2  0.474889  26.8343  17.4861  16.65897 -29.031888  19.2221  Abnormal   \n",
       "3  0.369345  23.5603  12.7074  11.42447 -30.470246  18.8329  Abnormal   \n",
       "4  0.543360  35.4940  15.9546   8.87237 -16.378376  24.9171  Abnormal   \n",
       "5  0.789993  29.3230  12.0036  10.40462  -1.512209   9.6548  Abnormal   \n",
       "6  0.198920  13.8514  10.7146  11.37832 -20.510434  25.9477  Abnormal   \n",
       "7  0.131973  28.8165   7.7676   7.60961 -25.111459  26.3543  Abnormal   \n",
       "8  0.190408  22.7085  11.4234  10.59188 -20.020075  40.0276  Abnormal   \n",
       "9  0.367700  26.2011   8.7380  14.91416  -1.702097  21.4320  Abnormal   \n",
       "\n",
       "                                         Unnamed: 13  \n",
       "0                                                NaN  \n",
       "1                                                NaN  \n",
       "2  Prediction is done by using binary classificat...  \n",
       "3                                                NaN  \n",
       "4                                                NaN  \n",
       "5         Attribute1  = pelvic_incidence  (numeric)   \n",
       "6                Attribute2 = pelvic_tilt (numeric)   \n",
       "7      Attribute3 = lumbar_lordosis_angle (numeric)   \n",
       "8               Attribute4 = sacral_slope (numeric)   \n",
       "9              Attribute5 = pelvic_radius (numeric)   "
      ]
     },
     "execution_count": 3,
     "metadata": {},
     "output_type": "execute_result"
    }
   ],
   "source": [
    "back_data.head(10)"
   ]
  },
  {
   "cell_type": "markdown",
   "metadata": {
    "_cell_guid": "79c7e3d0-c299-4dcb-8224-4455121ee9b0",
    "_uuid": "d629ff2d2480ee46fbb7e2d37f6b5fab8052498a",
    "colab_type": "text",
    "collapsed": true,
    "id": "mLBbk3tBbuAJ"
   },
   "source": [
    "## Unnamed column names\n",
    "\n",
    " - There is an additional column with notes about the names of each of the individual attributes. This is removed.\n",
    " - The columns are not named in the dataset. Adding the column names to each of the corresponding columns. "
   ]
  },
  {
   "cell_type": "code",
   "execution_count": 4,
   "metadata": {
    "_uuid": "028ccc53ffbb744ecde50b5cfaf3a4dcd0aa8ac7",
    "colab": {},
    "colab_type": "code",
    "id": "EFknsoabbuAJ"
   },
   "outputs": [],
   "source": [
    "del back_data['Unnamed: 13']\n",
    "back_data.columns = ['pelvic_incidence','pelvic tilt','lumbar_lordosis_angle','sacral_slope','pelvic_radius','degree_spondylolisthesis','pelvic_slope','Direct_tilt','thoracic_slope','cervical_tilt','sacrum_angle','scoliosis_slope','Status']"
   ]
  },
  {
   "cell_type": "code",
   "execution_count": 5,
   "metadata": {},
   "outputs": [
    {
     "data": {
      "text/html": [
       "<div>\n",
       "<style scoped>\n",
       "    .dataframe tbody tr th:only-of-type {\n",
       "        vertical-align: middle;\n",
       "    }\n",
       "\n",
       "    .dataframe tbody tr th {\n",
       "        vertical-align: top;\n",
       "    }\n",
       "\n",
       "    .dataframe thead th {\n",
       "        text-align: right;\n",
       "    }\n",
       "</style>\n",
       "<table border=\"1\" class=\"dataframe\">\n",
       "  <thead>\n",
       "    <tr style=\"text-align: right;\">\n",
       "      <th></th>\n",
       "      <th>pelvic_incidence</th>\n",
       "      <th>pelvic tilt</th>\n",
       "      <th>lumbar_lordosis_angle</th>\n",
       "      <th>sacral_slope</th>\n",
       "      <th>pelvic_radius</th>\n",
       "      <th>degree_spondylolisthesis</th>\n",
       "      <th>pelvic_slope</th>\n",
       "      <th>Direct_tilt</th>\n",
       "      <th>thoracic_slope</th>\n",
       "      <th>cervical_tilt</th>\n",
       "      <th>sacrum_angle</th>\n",
       "      <th>scoliosis_slope</th>\n",
       "      <th>Status</th>\n",
       "    </tr>\n",
       "  </thead>\n",
       "  <tbody>\n",
       "    <tr>\n",
       "      <td>0</td>\n",
       "      <td>63.027818</td>\n",
       "      <td>22.552586</td>\n",
       "      <td>39.609117</td>\n",
       "      <td>40.475232</td>\n",
       "      <td>98.672917</td>\n",
       "      <td>-0.254400</td>\n",
       "      <td>0.744503</td>\n",
       "      <td>12.5661</td>\n",
       "      <td>14.5386</td>\n",
       "      <td>15.30468</td>\n",
       "      <td>-28.658501</td>\n",
       "      <td>43.5123</td>\n",
       "      <td>Abnormal</td>\n",
       "    </tr>\n",
       "    <tr>\n",
       "      <td>1</td>\n",
       "      <td>39.056951</td>\n",
       "      <td>10.060991</td>\n",
       "      <td>25.015378</td>\n",
       "      <td>28.995960</td>\n",
       "      <td>114.405425</td>\n",
       "      <td>4.564259</td>\n",
       "      <td>0.415186</td>\n",
       "      <td>12.8874</td>\n",
       "      <td>17.5323</td>\n",
       "      <td>16.78486</td>\n",
       "      <td>-25.530607</td>\n",
       "      <td>16.1102</td>\n",
       "      <td>Abnormal</td>\n",
       "    </tr>\n",
       "    <tr>\n",
       "      <td>2</td>\n",
       "      <td>68.832021</td>\n",
       "      <td>22.218482</td>\n",
       "      <td>50.092194</td>\n",
       "      <td>46.613539</td>\n",
       "      <td>105.985135</td>\n",
       "      <td>-3.530317</td>\n",
       "      <td>0.474889</td>\n",
       "      <td>26.8343</td>\n",
       "      <td>17.4861</td>\n",
       "      <td>16.65897</td>\n",
       "      <td>-29.031888</td>\n",
       "      <td>19.2221</td>\n",
       "      <td>Abnormal</td>\n",
       "    </tr>\n",
       "    <tr>\n",
       "      <td>3</td>\n",
       "      <td>69.297008</td>\n",
       "      <td>24.652878</td>\n",
       "      <td>44.311238</td>\n",
       "      <td>44.644130</td>\n",
       "      <td>101.868495</td>\n",
       "      <td>11.211523</td>\n",
       "      <td>0.369345</td>\n",
       "      <td>23.5603</td>\n",
       "      <td>12.7074</td>\n",
       "      <td>11.42447</td>\n",
       "      <td>-30.470246</td>\n",
       "      <td>18.8329</td>\n",
       "      <td>Abnormal</td>\n",
       "    </tr>\n",
       "    <tr>\n",
       "      <td>4</td>\n",
       "      <td>49.712859</td>\n",
       "      <td>9.652075</td>\n",
       "      <td>28.317406</td>\n",
       "      <td>40.060784</td>\n",
       "      <td>108.168725</td>\n",
       "      <td>7.918501</td>\n",
       "      <td>0.543360</td>\n",
       "      <td>35.4940</td>\n",
       "      <td>15.9546</td>\n",
       "      <td>8.87237</td>\n",
       "      <td>-16.378376</td>\n",
       "      <td>24.9171</td>\n",
       "      <td>Abnormal</td>\n",
       "    </tr>\n",
       "  </tbody>\n",
       "</table>\n",
       "</div>"
      ],
      "text/plain": [
       "   pelvic_incidence  pelvic tilt  lumbar_lordosis_angle  sacral_slope  \\\n",
       "0         63.027818    22.552586              39.609117     40.475232   \n",
       "1         39.056951    10.060991              25.015378     28.995960   \n",
       "2         68.832021    22.218482              50.092194     46.613539   \n",
       "3         69.297008    24.652878              44.311238     44.644130   \n",
       "4         49.712859     9.652075              28.317406     40.060784   \n",
       "\n",
       "   pelvic_radius  degree_spondylolisthesis  pelvic_slope  Direct_tilt  \\\n",
       "0      98.672917                 -0.254400      0.744503      12.5661   \n",
       "1     114.405425                  4.564259      0.415186      12.8874   \n",
       "2     105.985135                 -3.530317      0.474889      26.8343   \n",
       "3     101.868495                 11.211523      0.369345      23.5603   \n",
       "4     108.168725                  7.918501      0.543360      35.4940   \n",
       "\n",
       "   thoracic_slope  cervical_tilt  sacrum_angle  scoliosis_slope    Status  \n",
       "0         14.5386       15.30468    -28.658501          43.5123  Abnormal  \n",
       "1         17.5323       16.78486    -25.530607          16.1102  Abnormal  \n",
       "2         17.4861       16.65897    -29.031888          19.2221  Abnormal  \n",
       "3         12.7074       11.42447    -30.470246          18.8329  Abnormal  \n",
       "4         15.9546        8.87237    -16.378376          24.9171  Abnormal  "
      ]
     },
     "execution_count": 5,
     "metadata": {},
     "output_type": "execute_result"
    }
   ],
   "source": [
    "back_data.head()"
   ]
  },
  {
   "cell_type": "code",
   "execution_count": 6,
   "metadata": {},
   "outputs": [
    {
     "data": {
      "text/plain": [
       "pelvic_incidence            0\n",
       "pelvic tilt                 0\n",
       "lumbar_lordosis_angle       0\n",
       "sacral_slope                0\n",
       "pelvic_radius               0\n",
       "degree_spondylolisthesis    0\n",
       "pelvic_slope                0\n",
       "Direct_tilt                 0\n",
       "thoracic_slope              0\n",
       "cervical_tilt               0\n",
       "sacrum_angle                0\n",
       "scoliosis_slope             0\n",
       "Status                      0\n",
       "dtype: int64"
      ]
     },
     "execution_count": 6,
     "metadata": {},
     "output_type": "execute_result"
    }
   ],
   "source": [
    "back_data.isnull().sum()"
   ]
  },
  {
   "cell_type": "code",
   "execution_count": 7,
   "metadata": {},
   "outputs": [
    {
     "data": {
      "text/html": [
       "<div>\n",
       "<style scoped>\n",
       "    .dataframe tbody tr th:only-of-type {\n",
       "        vertical-align: middle;\n",
       "    }\n",
       "\n",
       "    .dataframe tbody tr th {\n",
       "        vertical-align: top;\n",
       "    }\n",
       "\n",
       "    .dataframe thead th {\n",
       "        text-align: right;\n",
       "    }\n",
       "</style>\n",
       "<table border=\"1\" class=\"dataframe\">\n",
       "  <thead>\n",
       "    <tr style=\"text-align: right;\">\n",
       "      <th></th>\n",
       "      <th>pelvic_incidence</th>\n",
       "      <th>pelvic tilt</th>\n",
       "      <th>lumbar_lordosis_angle</th>\n",
       "      <th>sacral_slope</th>\n",
       "      <th>pelvic_radius</th>\n",
       "      <th>degree_spondylolisthesis</th>\n",
       "      <th>pelvic_slope</th>\n",
       "      <th>Direct_tilt</th>\n",
       "      <th>thoracic_slope</th>\n",
       "      <th>cervical_tilt</th>\n",
       "      <th>sacrum_angle</th>\n",
       "      <th>scoliosis_slope</th>\n",
       "    </tr>\n",
       "  </thead>\n",
       "  <tbody>\n",
       "    <tr>\n",
       "      <td>count</td>\n",
       "      <td>310.000000</td>\n",
       "      <td>310.000000</td>\n",
       "      <td>310.000000</td>\n",
       "      <td>310.000000</td>\n",
       "      <td>310.000000</td>\n",
       "      <td>310.000000</td>\n",
       "      <td>310.000000</td>\n",
       "      <td>310.000000</td>\n",
       "      <td>310.000000</td>\n",
       "      <td>310.000000</td>\n",
       "      <td>310.000000</td>\n",
       "      <td>310.000000</td>\n",
       "    </tr>\n",
       "    <tr>\n",
       "      <td>mean</td>\n",
       "      <td>60.496653</td>\n",
       "      <td>17.542822</td>\n",
       "      <td>51.930930</td>\n",
       "      <td>42.953831</td>\n",
       "      <td>117.920655</td>\n",
       "      <td>26.296694</td>\n",
       "      <td>0.472979</td>\n",
       "      <td>21.321526</td>\n",
       "      <td>13.064511</td>\n",
       "      <td>11.933317</td>\n",
       "      <td>-14.053139</td>\n",
       "      <td>25.645981</td>\n",
       "    </tr>\n",
       "    <tr>\n",
       "      <td>std</td>\n",
       "      <td>17.236520</td>\n",
       "      <td>10.008330</td>\n",
       "      <td>18.554064</td>\n",
       "      <td>13.423102</td>\n",
       "      <td>13.317377</td>\n",
       "      <td>37.559027</td>\n",
       "      <td>0.285787</td>\n",
       "      <td>8.639423</td>\n",
       "      <td>3.399713</td>\n",
       "      <td>2.893265</td>\n",
       "      <td>12.225582</td>\n",
       "      <td>10.450558</td>\n",
       "    </tr>\n",
       "    <tr>\n",
       "      <td>min</td>\n",
       "      <td>26.147921</td>\n",
       "      <td>-6.554948</td>\n",
       "      <td>14.000000</td>\n",
       "      <td>13.366931</td>\n",
       "      <td>70.082575</td>\n",
       "      <td>-11.058179</td>\n",
       "      <td>0.003220</td>\n",
       "      <td>7.027000</td>\n",
       "      <td>7.037800</td>\n",
       "      <td>7.030600</td>\n",
       "      <td>-35.287375</td>\n",
       "      <td>7.007900</td>\n",
       "    </tr>\n",
       "    <tr>\n",
       "      <td>25%</td>\n",
       "      <td>46.430294</td>\n",
       "      <td>10.667069</td>\n",
       "      <td>37.000000</td>\n",
       "      <td>33.347122</td>\n",
       "      <td>110.709196</td>\n",
       "      <td>1.603727</td>\n",
       "      <td>0.224367</td>\n",
       "      <td>13.054400</td>\n",
       "      <td>10.417800</td>\n",
       "      <td>9.541140</td>\n",
       "      <td>-24.289522</td>\n",
       "      <td>17.189075</td>\n",
       "    </tr>\n",
       "    <tr>\n",
       "      <td>50%</td>\n",
       "      <td>58.691038</td>\n",
       "      <td>16.357689</td>\n",
       "      <td>49.562398</td>\n",
       "      <td>42.404912</td>\n",
       "      <td>118.268178</td>\n",
       "      <td>11.767934</td>\n",
       "      <td>0.475989</td>\n",
       "      <td>21.907150</td>\n",
       "      <td>12.938450</td>\n",
       "      <td>11.953835</td>\n",
       "      <td>-14.622856</td>\n",
       "      <td>24.931950</td>\n",
       "    </tr>\n",
       "    <tr>\n",
       "      <td>75%</td>\n",
       "      <td>72.877696</td>\n",
       "      <td>22.120395</td>\n",
       "      <td>63.000000</td>\n",
       "      <td>52.695888</td>\n",
       "      <td>125.467674</td>\n",
       "      <td>41.287352</td>\n",
       "      <td>0.704846</td>\n",
       "      <td>28.954075</td>\n",
       "      <td>15.889525</td>\n",
       "      <td>14.371810</td>\n",
       "      <td>-3.497094</td>\n",
       "      <td>33.979600</td>\n",
       "    </tr>\n",
       "    <tr>\n",
       "      <td>max</td>\n",
       "      <td>129.834041</td>\n",
       "      <td>49.431864</td>\n",
       "      <td>125.742385</td>\n",
       "      <td>121.429566</td>\n",
       "      <td>163.071041</td>\n",
       "      <td>418.543082</td>\n",
       "      <td>0.998827</td>\n",
       "      <td>36.743900</td>\n",
       "      <td>19.324000</td>\n",
       "      <td>16.821080</td>\n",
       "      <td>6.972071</td>\n",
       "      <td>44.341200</td>\n",
       "    </tr>\n",
       "  </tbody>\n",
       "</table>\n",
       "</div>"
      ],
      "text/plain": [
       "       pelvic_incidence  pelvic tilt  lumbar_lordosis_angle  sacral_slope  \\\n",
       "count        310.000000   310.000000             310.000000    310.000000   \n",
       "mean          60.496653    17.542822              51.930930     42.953831   \n",
       "std           17.236520    10.008330              18.554064     13.423102   \n",
       "min           26.147921    -6.554948              14.000000     13.366931   \n",
       "25%           46.430294    10.667069              37.000000     33.347122   \n",
       "50%           58.691038    16.357689              49.562398     42.404912   \n",
       "75%           72.877696    22.120395              63.000000     52.695888   \n",
       "max          129.834041    49.431864             125.742385    121.429566   \n",
       "\n",
       "       pelvic_radius  degree_spondylolisthesis  pelvic_slope  Direct_tilt  \\\n",
       "count     310.000000                310.000000    310.000000   310.000000   \n",
       "mean      117.920655                 26.296694      0.472979    21.321526   \n",
       "std        13.317377                 37.559027      0.285787     8.639423   \n",
       "min        70.082575                -11.058179      0.003220     7.027000   \n",
       "25%       110.709196                  1.603727      0.224367    13.054400   \n",
       "50%       118.268178                 11.767934      0.475989    21.907150   \n",
       "75%       125.467674                 41.287352      0.704846    28.954075   \n",
       "max       163.071041                418.543082      0.998827    36.743900   \n",
       "\n",
       "       thoracic_slope  cervical_tilt  sacrum_angle  scoliosis_slope  \n",
       "count      310.000000     310.000000    310.000000       310.000000  \n",
       "mean        13.064511      11.933317    -14.053139        25.645981  \n",
       "std          3.399713       2.893265     12.225582        10.450558  \n",
       "min          7.037800       7.030600    -35.287375         7.007900  \n",
       "25%         10.417800       9.541140    -24.289522        17.189075  \n",
       "50%         12.938450      11.953835    -14.622856        24.931950  \n",
       "75%         15.889525      14.371810     -3.497094        33.979600  \n",
       "max         19.324000      16.821080      6.972071        44.341200  "
      ]
     },
     "execution_count": 7,
     "metadata": {},
     "output_type": "execute_result"
    }
   ],
   "source": [
    "back_data.describe()"
   ]
  },
  {
   "cell_type": "code",
   "execution_count": 8,
   "metadata": {},
   "outputs": [
    {
     "data": {
      "text/plain": [
       "count          310\n",
       "unique           2\n",
       "top       Abnormal\n",
       "freq           210\n",
       "Name: Status, dtype: object"
      ]
     },
     "execution_count": 8,
     "metadata": {},
     "output_type": "execute_result"
    }
   ],
   "source": [
    "back_data.Status.describe()"
   ]
  },
  {
   "cell_type": "markdown",
   "metadata": {
    "_uuid": "960fe8504aa3c8e232ab4a57939708ec2bd6633e",
    "colab_type": "text",
    "id": "vdP1uhmKbuAM"
   },
   "source": [
    "## Initial Data Exploration\n",
    " - Checking if there are any missing values in the dataset. Turns out there aren't any.\n",
    " - Checking the frequency of the different values of the Status column. Abnormal is 210 of the 310 observations. This means that it is not really an unbalanced dataset."
   ]
  },
  {
   "cell_type": "code",
   "execution_count": 9,
   "metadata": {
    "_uuid": "56d7f534ea8ac8275a2b83cce6cb4fcea909f143",
    "colab": {},
    "colab_type": "code",
    "id": "mN1x8dRtbuAN",
    "outputId": "91817658-1166-4c04-f84a-b68291f2cd9f"
   },
   "outputs": [
    {
     "name": "stdout",
     "output_type": "stream",
     "text": [
      "<class 'pandas.core.frame.DataFrame'>\n",
      "RangeIndex: 310 entries, 0 to 309\n",
      "Data columns (total 13 columns):\n",
      "pelvic_incidence            310 non-null float64\n",
      "pelvic tilt                 310 non-null float64\n",
      "lumbar_lordosis_angle       310 non-null float64\n",
      "sacral_slope                310 non-null float64\n",
      "pelvic_radius               310 non-null float64\n",
      "degree_spondylolisthesis    310 non-null float64\n",
      "pelvic_slope                310 non-null float64\n",
      "Direct_tilt                 310 non-null float64\n",
      "thoracic_slope              310 non-null float64\n",
      "cervical_tilt               310 non-null float64\n",
      "sacrum_angle                310 non-null float64\n",
      "scoliosis_slope             310 non-null float64\n",
      "Status                      310 non-null object\n",
      "dtypes: float64(12), object(1)\n",
      "memory usage: 31.6+ KB\n",
      "pelvic_incidence            0\n",
      "pelvic tilt                 0\n",
      "lumbar_lordosis_angle       0\n",
      "sacral_slope                0\n",
      "pelvic_radius               0\n",
      "degree_spondylolisthesis    0\n",
      "pelvic_slope                0\n",
      "Direct_tilt                 0\n",
      "thoracic_slope              0\n",
      "cervical_tilt               0\n",
      "sacrum_angle                0\n",
      "scoliosis_slope             0\n",
      "Status                      0\n",
      "dtype: int64\n",
      "count          310\n",
      "unique           2\n",
      "top       Abnormal\n",
      "freq           210\n",
      "Name: Status, dtype: object\n"
     ]
    }
   ],
   "source": [
    "## Understanding the structure of the data variables\n",
    "back_data.info()\n",
    "\n",
    "##Checking for missing values. There are no missing values\n",
    "print(back_data.isnull().sum())\n",
    "\n",
    "## split of the Status column between the two levels Abnormal and Normal\n",
    "print(back_data.Status.describe())"
   ]
  },
  {
   "cell_type": "markdown",
   "metadata": {
    "_uuid": "2e307e1b3e534d5e518fa88ada8b266ab3827c0f",
    "colab_type": "text",
    "id": "VdeE4dWwbuAQ"
   },
   "source": [
    "## Multi Collinearity check\n",
    " - Checking if the individual columns are correlated with each other. In which case, they might end up having the same predictive power or explaining the same variation in the dependent variable. \n",
    " - The correlation matrix/ plot is a good way to establish multi collinearity between the dependent variables. Anything closer to +- 1 indicates high correlation between those two predictor variables.\n",
    " - We can observe from the plot that pelvic_incidence is highly correlated with pelvic tilt, sacral slope, degree spondylolisthesis and lumbar lordosis angle."
   ]
  },
  {
   "cell_type": "code",
   "execution_count": 10,
   "metadata": {
    "_uuid": "a900fea36313f4633bdb57ed36f4f2214a1d85c2",
    "colab": {},
    "colab_type": "code",
    "id": "WeWaCcbKbuAQ",
    "outputId": "a4eaa4fc-849c-4711-bcc4-40b86b1df439"
   },
   "outputs": [
    {
     "data": {
      "image/png": "[encoded data removed]",
      "text/plain": [
       "<Figure size 432x288 with 2 Axes>"
      ]
     },
     "metadata": {
      "needs_background": "light"
     },
     "output_type": "display_data"
    }
   ],
   "source": [
    "corr_back = back_data.corr()\n",
    "# Generate a mask for the upper right triangle of the square - one half is enough to convey the correlation \n",
    "## between the predictors\n",
    "mask = np.zeros_like(corr_back, dtype=np.bool)\n",
    "mask[np.triu_indices_from(mask)] = True\n",
    "\n",
    "# Generate the correlation plot \n",
    "sns.heatmap(corr_back, mask=mask, center=0, square=True, linewidths=.5)\n",
    "\n",
    "plt.show()"
   ]
  },
  {
   "cell_type": "code",
   "execution_count": 11,
   "metadata": {
    "_uuid": "bb590a1746146919e0a2259ff22195e9df7e4cba",
    "colab": {},
    "colab_type": "code",
    "id": "q1fDYEPebuAT",
    "outputId": "7541906d-8e56-4f35-8eef-c4ca03f526c5"
   },
   "outputs": [
    {
     "data": {
      "text/html": [
       "<div>\n",
       "<style scoped>\n",
       "    .dataframe tbody tr th:only-of-type {\n",
       "        vertical-align: middle;\n",
       "    }\n",
       "\n",
       "    .dataframe tbody tr th {\n",
       "        vertical-align: top;\n",
       "    }\n",
       "\n",
       "    .dataframe thead th {\n",
       "        text-align: right;\n",
       "    }\n",
       "</style>\n",
       "<table border=\"1\" class=\"dataframe\">\n",
       "  <thead>\n",
       "    <tr style=\"text-align: right;\">\n",
       "      <th></th>\n",
       "      <th>pelvic_incidence</th>\n",
       "      <th>pelvic tilt</th>\n",
       "      <th>lumbar_lordosis_angle</th>\n",
       "      <th>sacral_slope</th>\n",
       "      <th>pelvic_radius</th>\n",
       "      <th>degree_spondylolisthesis</th>\n",
       "      <th>pelvic_slope</th>\n",
       "      <th>Direct_tilt</th>\n",
       "      <th>thoracic_slope</th>\n",
       "      <th>cervical_tilt</th>\n",
       "      <th>sacrum_angle</th>\n",
       "      <th>scoliosis_slope</th>\n",
       "    </tr>\n",
       "  </thead>\n",
       "  <tbody>\n",
       "    <tr>\n",
       "      <td>pelvic_incidence</td>\n",
       "      <td>1.000000</td>\n",
       "      <td>0.629199</td>\n",
       "      <td>0.717282</td>\n",
       "      <td>0.814960</td>\n",
       "      <td>-0.247467</td>\n",
       "      <td>0.638743</td>\n",
       "      <td>0.043290</td>\n",
       "      <td>-0.078411</td>\n",
       "      <td>-0.089740</td>\n",
       "      <td>0.016750</td>\n",
       "      <td>0.019240</td>\n",
       "      <td>-0.007251</td>\n",
       "    </tr>\n",
       "    <tr>\n",
       "      <td>pelvic tilt</td>\n",
       "      <td>0.629199</td>\n",
       "      <td>1.000000</td>\n",
       "      <td>0.432764</td>\n",
       "      <td>0.062345</td>\n",
       "      <td>0.032668</td>\n",
       "      <td>0.397862</td>\n",
       "      <td>0.008852</td>\n",
       "      <td>-0.072119</td>\n",
       "      <td>-0.063394</td>\n",
       "      <td>0.028931</td>\n",
       "      <td>0.032859</td>\n",
       "      <td>-0.056550</td>\n",
       "    </tr>\n",
       "    <tr>\n",
       "      <td>lumbar_lordosis_angle</td>\n",
       "      <td>0.717282</td>\n",
       "      <td>0.432764</td>\n",
       "      <td>1.000000</td>\n",
       "      <td>0.598387</td>\n",
       "      <td>-0.080344</td>\n",
       "      <td>0.533667</td>\n",
       "      <td>0.029486</td>\n",
       "      <td>-0.112939</td>\n",
       "      <td>-0.063582</td>\n",
       "      <td>0.063875</td>\n",
       "      <td>0.057199</td>\n",
       "      <td>-0.049054</td>\n",
       "    </tr>\n",
       "    <tr>\n",
       "      <td>sacral_slope</td>\n",
       "      <td>0.814960</td>\n",
       "      <td>0.062345</td>\n",
       "      <td>0.598387</td>\n",
       "      <td>1.000000</td>\n",
       "      <td>-0.342128</td>\n",
       "      <td>0.523557</td>\n",
       "      <td>0.048988</td>\n",
       "      <td>-0.046914</td>\n",
       "      <td>-0.067968</td>\n",
       "      <td>-0.000063</td>\n",
       "      <td>0.000207</td>\n",
       "      <td>0.032853</td>\n",
       "    </tr>\n",
       "    <tr>\n",
       "      <td>pelvic_radius</td>\n",
       "      <td>-0.247467</td>\n",
       "      <td>0.032668</td>\n",
       "      <td>-0.080344</td>\n",
       "      <td>-0.342128</td>\n",
       "      <td>1.000000</td>\n",
       "      <td>-0.026065</td>\n",
       "      <td>0.015767</td>\n",
       "      <td>0.063433</td>\n",
       "      <td>0.060477</td>\n",
       "      <td>-0.039800</td>\n",
       "      <td>0.029738</td>\n",
       "      <td>-0.030145</td>\n",
       "    </tr>\n",
       "    <tr>\n",
       "      <td>degree_spondylolisthesis</td>\n",
       "      <td>0.638743</td>\n",
       "      <td>0.397862</td>\n",
       "      <td>0.533667</td>\n",
       "      <td>0.523557</td>\n",
       "      <td>-0.026065</td>\n",
       "      <td>1.000000</td>\n",
       "      <td>0.085925</td>\n",
       "      <td>-0.063812</td>\n",
       "      <td>-0.057286</td>\n",
       "      <td>0.056576</td>\n",
       "      <td>0.023021</td>\n",
       "      <td>-0.041023</td>\n",
       "    </tr>\n",
       "    <tr>\n",
       "      <td>pelvic_slope</td>\n",
       "      <td>0.043290</td>\n",
       "      <td>0.008852</td>\n",
       "      <td>0.029486</td>\n",
       "      <td>0.048988</td>\n",
       "      <td>0.015767</td>\n",
       "      <td>0.085925</td>\n",
       "      <td>1.000000</td>\n",
       "      <td>0.012694</td>\n",
       "      <td>-0.011770</td>\n",
       "      <td>0.088017</td>\n",
       "      <td>0.060743</td>\n",
       "      <td>-0.073893</td>\n",
       "    </tr>\n",
       "    <tr>\n",
       "      <td>Direct_tilt</td>\n",
       "      <td>-0.078411</td>\n",
       "      <td>-0.072119</td>\n",
       "      <td>-0.112939</td>\n",
       "      <td>-0.046914</td>\n",
       "      <td>0.063433</td>\n",
       "      <td>-0.063812</td>\n",
       "      <td>0.012694</td>\n",
       "      <td>1.000000</td>\n",
       "      <td>0.009887</td>\n",
       "      <td>0.072738</td>\n",
       "      <td>-0.037428</td>\n",
       "      <td>-0.024021</td>\n",
       "    </tr>\n",
       "    <tr>\n",
       "      <td>thoracic_slope</td>\n",
       "      <td>-0.089740</td>\n",
       "      <td>-0.063394</td>\n",
       "      <td>-0.063582</td>\n",
       "      <td>-0.067968</td>\n",
       "      <td>0.060477</td>\n",
       "      <td>-0.057286</td>\n",
       "      <td>-0.011770</td>\n",
       "      <td>0.009887</td>\n",
       "      <td>1.000000</td>\n",
       "      <td>0.052451</td>\n",
       "      <td>0.011354</td>\n",
       "      <td>0.009541</td>\n",
       "    </tr>\n",
       "    <tr>\n",
       "      <td>cervical_tilt</td>\n",
       "      <td>0.016750</td>\n",
       "      <td>0.028931</td>\n",
       "      <td>0.063875</td>\n",
       "      <td>-0.000063</td>\n",
       "      <td>-0.039800</td>\n",
       "      <td>0.056576</td>\n",
       "      <td>0.088017</td>\n",
       "      <td>0.072738</td>\n",
       "      <td>0.052451</td>\n",
       "      <td>1.000000</td>\n",
       "      <td>0.057451</td>\n",
       "      <td>0.021243</td>\n",
       "    </tr>\n",
       "    <tr>\n",
       "      <td>sacrum_angle</td>\n",
       "      <td>0.019240</td>\n",
       "      <td>0.032859</td>\n",
       "      <td>0.057199</td>\n",
       "      <td>0.000207</td>\n",
       "      <td>0.029738</td>\n",
       "      <td>0.023021</td>\n",
       "      <td>0.060743</td>\n",
       "      <td>-0.037428</td>\n",
       "      <td>0.011354</td>\n",
       "      <td>0.057451</td>\n",
       "      <td>1.000000</td>\n",
       "      <td>0.015337</td>\n",
       "    </tr>\n",
       "    <tr>\n",
       "      <td>scoliosis_slope</td>\n",
       "      <td>-0.007251</td>\n",
       "      <td>-0.056550</td>\n",
       "      <td>-0.049054</td>\n",
       "      <td>0.032853</td>\n",
       "      <td>-0.030145</td>\n",
       "      <td>-0.041023</td>\n",
       "      <td>-0.073893</td>\n",
       "      <td>-0.024021</td>\n",
       "      <td>0.009541</td>\n",
       "      <td>0.021243</td>\n",
       "      <td>0.015337</td>\n",
       "      <td>1.000000</td>\n",
       "    </tr>\n",
       "  </tbody>\n",
       "</table>\n",
       "</div>"
      ],
      "text/plain": [
       "                          pelvic_incidence  pelvic tilt  \\\n",
       "pelvic_incidence                  1.000000     0.629199   \n",
       "pelvic tilt                       0.629199     1.000000   \n",
       "lumbar_lordosis_angle             0.717282     0.432764   \n",
       "sacral_slope                      0.814960     0.062345   \n",
       "pelvic_radius                    -0.247467     0.032668   \n",
       "degree_spondylolisthesis          0.638743     0.397862   \n",
       "pelvic_slope                      0.043290     0.008852   \n",
       "Direct_tilt                      -0.078411    -0.072119   \n",
       "thoracic_slope                   -0.089740    -0.063394   \n",
       "cervical_tilt                     0.016750     0.028931   \n",
       "sacrum_angle                      0.019240     0.032859   \n",
       "scoliosis_slope                  -0.007251    -0.056550   \n",
       "\n",
       "                          lumbar_lordosis_angle  sacral_slope  pelvic_radius  \\\n",
       "pelvic_incidence                       0.717282      0.814960      -0.247467   \n",
       "pelvic tilt                            0.432764      0.062345       0.032668   \n",
       "lumbar_lordosis_angle                  1.000000      0.598387      -0.080344   \n",
       "sacral_slope                           0.598387      1.000000      -0.342128   \n",
       "pelvic_radius                         -0.080344     -0.342128       1.000000   \n",
       "degree_spondylolisthesis               0.533667      0.523557      -0.026065   \n",
       "pelvic_slope                           0.029486      0.048988       0.015767   \n",
       "Direct_tilt                           -0.112939     -0.046914       0.063433   \n",
       "thoracic_slope                        -0.063582     -0.067968       0.060477   \n",
       "cervical_tilt                          0.063875     -0.000063      -0.039800   \n",
       "sacrum_angle                           0.057199      0.000207       0.029738   \n",
       "scoliosis_slope                       -0.049054      0.032853      -0.030145   \n",
       "\n",
       "                          degree_spondylolisthesis  pelvic_slope  Direct_tilt  \\\n",
       "pelvic_incidence                          0.638743      0.043290    -0.078411   \n",
       "pelvic tilt                               0.397862      0.008852    -0.072119   \n",
       "lumbar_lordosis_angle                     0.533667      0.029486    -0.112939   \n",
       "sacral_slope                              0.523557      0.048988    -0.046914   \n",
       "pelvic_radius                            -0.026065      0.015767     0.063433   \n",
       "degree_spondylolisthesis                  1.000000      0.085925    -0.063812   \n",
       "pelvic_slope                              0.085925      1.000000     0.012694   \n",
       "Direct_tilt                              -0.063812      0.012694     1.000000   \n",
       "thoracic_slope                           -0.057286     -0.011770     0.009887   \n",
       "cervical_tilt                             0.056576      0.088017     0.072738   \n",
       "sacrum_angle                              0.023021      0.060743    -0.037428   \n",
       "scoliosis_slope                          -0.041023     -0.073893    -0.024021   \n",
       "\n",
       "                          thoracic_slope  cervical_tilt  sacrum_angle  \\\n",
       "pelvic_incidence               -0.089740       0.016750      0.019240   \n",
       "pelvic tilt                    -0.063394       0.028931      0.032859   \n",
       "lumbar_lordosis_angle          -0.063582       0.063875      0.057199   \n",
       "sacral_slope                   -0.067968      -0.000063      0.000207   \n",
       "pelvic_radius                   0.060477      -0.039800      0.029738   \n",
       "degree_spondylolisthesis       -0.057286       0.056576      0.023021   \n",
       "pelvic_slope                   -0.011770       0.088017      0.060743   \n",
       "Direct_tilt                     0.009887       0.072738     -0.037428   \n",
       "thoracic_slope                  1.000000       0.052451      0.011354   \n",
       "cervical_tilt                   0.052451       1.000000      0.057451   \n",
       "sacrum_angle                    0.011354       0.057451      1.000000   \n",
       "scoliosis_slope                 0.009541       0.021243      0.015337   \n",
       "\n",
       "                          scoliosis_slope  \n",
       "pelvic_incidence                -0.007251  \n",
       "pelvic tilt                     -0.056550  \n",
       "lumbar_lordosis_angle           -0.049054  \n",
       "sacral_slope                     0.032853  \n",
       "pelvic_radius                   -0.030145  \n",
       "degree_spondylolisthesis        -0.041023  \n",
       "pelvic_slope                    -0.073893  \n",
       "Direct_tilt                     -0.024021  \n",
       "thoracic_slope                   0.009541  \n",
       "cervical_tilt                    0.021243  \n",
       "sacrum_angle                     0.015337  \n",
       "scoliosis_slope                  1.000000  "
      ]
     },
     "execution_count": 11,
     "metadata": {},
     "output_type": "execute_result"
    }
   ],
   "source": [
    "# Seeing the correlation values\n",
    "corr_back"
   ]
  },
  {
   "cell_type": "code",
   "execution_count": 12,
   "metadata": {},
   "outputs": [
    {
     "name": "stdout",
     "output_type": "stream",
     "text": [
      "<class 'pandas.core.frame.DataFrame'>\n",
      "RangeIndex: 310 entries, 0 to 309\n",
      "Data columns (total 13 columns):\n",
      "pelvic_incidence            310 non-null float64\n",
      "pelvic tilt                 310 non-null float64\n",
      "lumbar_lordosis_angle       310 non-null float64\n",
      "sacral_slope                310 non-null float64\n",
      "pelvic_radius               310 non-null float64\n",
      "degree_spondylolisthesis    310 non-null float64\n",
      "pelvic_slope                310 non-null float64\n",
      "Direct_tilt                 310 non-null float64\n",
      "thoracic_slope              310 non-null float64\n",
      "cervical_tilt               310 non-null float64\n",
      "sacrum_angle                310 non-null float64\n",
      "scoliosis_slope             310 non-null float64\n",
      "Status                      310 non-null object\n",
      "dtypes: float64(12), object(1)\n",
      "memory usage: 31.6+ KB\n"
     ]
    }
   ],
   "source": [
    "back_data.info()"
   ]
  },
  {
   "cell_type": "markdown",
   "metadata": {
    "_uuid": "641ea02914390c4a93315931f310023afef22244",
    "colab_type": "text",
    "id": "Q0f3QSp0buAW"
   },
   "source": [
    "## Bi-variate analysis - Relation of each predictor with Target variable\n",
    "\n",
    "The status column has two values - 'Abnormal' and 'Normal'. We would like to explore how each of the 12 predictor variables vary with respect to the Status value. We would be more interested in those predictor variables which have a noticeable difference in their values corresponding to 'Normal' and 'Abnormal'. \n",
    "\n",
    "We calculate the mean/ median of values corresponding to Normal and Abnormal for each of the predictor variables. Some observations:\n",
    "\n",
    " - The first six variables have noticeable difference in the means corresponding to Normal and Abnormal.\n",
    " - The mean corresponding to Abnormal for degree_spondylolisthesis is quite higher than the corresponding median. Could be due to outliers.\n",
    " - pelvic_radius has lower values for Abnormal as compared to Normal."
   ]
  },
  {
   "cell_type": "code",
   "execution_count": 13,
   "metadata": {
    "_uuid": "d5d94b6d7ec0dded9307e74469b65d62577c4281",
    "colab": {},
    "colab_type": "code",
    "id": "ZFc1REXSbuAX",
    "outputId": "f28df666-cdb8-4f91-f553-85a43d255dd6"
   },
   "outputs": [
    {
     "data": {
      "text/html": [
       "<div>\n",
       "<style scoped>\n",
       "    .dataframe tbody tr th:only-of-type {\n",
       "        vertical-align: middle;\n",
       "    }\n",
       "\n",
       "    .dataframe tbody tr th {\n",
       "        vertical-align: top;\n",
       "    }\n",
       "\n",
       "    .dataframe thead th {\n",
       "        text-align: right;\n",
       "    }\n",
       "</style>\n",
       "<table border=\"1\" class=\"dataframe\">\n",
       "  <thead>\n",
       "    <tr style=\"text-align: right;\">\n",
       "      <th></th>\n",
       "      <th>pelvic_incidence</th>\n",
       "      <th>pelvic tilt</th>\n",
       "      <th>lumbar_lordosis_angle</th>\n",
       "      <th>sacral_slope</th>\n",
       "      <th>pelvic_radius</th>\n",
       "      <th>degree_spondylolisthesis</th>\n",
       "      <th>pelvic_slope</th>\n",
       "      <th>Direct_tilt</th>\n",
       "      <th>thoracic_slope</th>\n",
       "      <th>cervical_tilt</th>\n",
       "      <th>sacrum_angle</th>\n",
       "      <th>scoliosis_slope</th>\n",
       "    </tr>\n",
       "    <tr>\n",
       "      <th>Status</th>\n",
       "      <th></th>\n",
       "      <th></th>\n",
       "      <th></th>\n",
       "      <th></th>\n",
       "      <th></th>\n",
       "      <th></th>\n",
       "      <th></th>\n",
       "      <th></th>\n",
       "      <th></th>\n",
       "      <th></th>\n",
       "      <th></th>\n",
       "      <th></th>\n",
       "    </tr>\n",
       "  </thead>\n",
       "  <tbody>\n",
       "    <tr>\n",
       "      <td>Abnormal</td>\n",
       "      <td>64.692562</td>\n",
       "      <td>19.791111</td>\n",
       "      <td>55.925370</td>\n",
       "      <td>44.90145</td>\n",
       "      <td>115.077713</td>\n",
       "      <td>37.777705</td>\n",
       "      <td>0.483979</td>\n",
       "      <td>21.085875</td>\n",
       "      <td>12.948913</td>\n",
       "      <td>12.132737</td>\n",
       "      <td>-13.826677</td>\n",
       "      <td>25.146915</td>\n",
       "    </tr>\n",
       "    <tr>\n",
       "      <td>Normal</td>\n",
       "      <td>51.685244</td>\n",
       "      <td>12.821414</td>\n",
       "      <td>43.542605</td>\n",
       "      <td>38.86383</td>\n",
       "      <td>123.890834</td>\n",
       "      <td>2.186572</td>\n",
       "      <td>0.449880</td>\n",
       "      <td>21.816394</td>\n",
       "      <td>13.307268</td>\n",
       "      <td>11.514534</td>\n",
       "      <td>-14.528711</td>\n",
       "      <td>26.694019</td>\n",
       "    </tr>\n",
       "  </tbody>\n",
       "</table>\n",
       "</div>"
      ],
      "text/plain": [
       "          pelvic_incidence  pelvic tilt  lumbar_lordosis_angle  sacral_slope  \\\n",
       "Status                                                                         \n",
       "Abnormal         64.692562    19.791111              55.925370      44.90145   \n",
       "Normal           51.685244    12.821414              43.542605      38.86383   \n",
       "\n",
       "          pelvic_radius  degree_spondylolisthesis  pelvic_slope  Direct_tilt  \\\n",
       "Status                                                                         \n",
       "Abnormal     115.077713                 37.777705      0.483979    21.085875   \n",
       "Normal       123.890834                  2.186572      0.449880    21.816394   \n",
       "\n",
       "          thoracic_slope  cervical_tilt  sacrum_angle  scoliosis_slope  \n",
       "Status                                                                  \n",
       "Abnormal       12.948913      12.132737    -13.826677        25.146915  \n",
       "Normal         13.307268      11.514534    -14.528711        26.694019  "
      ]
     },
     "execution_count": 13,
     "metadata": {},
     "output_type": "execute_result"
    }
   ],
   "source": [
    "back_data.groupby('Status').mean()"
   ]
  },
  {
   "cell_type": "code",
   "execution_count": 14,
   "metadata": {
    "_uuid": "2a981585b6de217e0bc0972ebd573d54511788f6",
    "colab": {},
    "colab_type": "code",
    "id": "3Dvq6tNgbuAa",
    "outputId": "20963bf4-70a1-4e84-d0c9-af73f45169a9"
   },
   "outputs": [
    {
     "data": {
      "text/html": [
       "<div>\n",
       "<style scoped>\n",
       "    .dataframe tbody tr th:only-of-type {\n",
       "        vertical-align: middle;\n",
       "    }\n",
       "\n",
       "    .dataframe tbody tr th {\n",
       "        vertical-align: top;\n",
       "    }\n",
       "\n",
       "    .dataframe thead th {\n",
       "        text-align: right;\n",
       "    }\n",
       "</style>\n",
       "<table border=\"1\" class=\"dataframe\">\n",
       "  <thead>\n",
       "    <tr style=\"text-align: right;\">\n",
       "      <th></th>\n",
       "      <th>pelvic_incidence</th>\n",
       "      <th>pelvic tilt</th>\n",
       "      <th>lumbar_lordosis_angle</th>\n",
       "      <th>sacral_slope</th>\n",
       "      <th>pelvic_radius</th>\n",
       "      <th>degree_spondylolisthesis</th>\n",
       "      <th>pelvic_slope</th>\n",
       "      <th>Direct_tilt</th>\n",
       "      <th>thoracic_slope</th>\n",
       "      <th>cervical_tilt</th>\n",
       "      <th>sacrum_angle</th>\n",
       "      <th>scoliosis_slope</th>\n",
       "    </tr>\n",
       "    <tr>\n",
       "      <th>Status</th>\n",
       "      <th></th>\n",
       "      <th></th>\n",
       "      <th></th>\n",
       "      <th></th>\n",
       "      <th></th>\n",
       "      <th></th>\n",
       "      <th></th>\n",
       "      <th></th>\n",
       "      <th></th>\n",
       "      <th></th>\n",
       "      <th></th>\n",
       "      <th></th>\n",
       "    </tr>\n",
       "  </thead>\n",
       "  <tbody>\n",
       "    <tr>\n",
       "      <td>Abnormal</td>\n",
       "      <td>65.274888</td>\n",
       "      <td>18.798899</td>\n",
       "      <td>56.150000</td>\n",
       "      <td>44.639597</td>\n",
       "      <td>115.650323</td>\n",
       "      <td>31.946516</td>\n",
       "      <td>0.501280</td>\n",
       "      <td>21.7506</td>\n",
       "      <td>12.77005</td>\n",
       "      <td>11.973735</td>\n",
       "      <td>-14.892070</td>\n",
       "      <td>24.50940</td>\n",
       "    </tr>\n",
       "    <tr>\n",
       "      <td>Normal</td>\n",
       "      <td>50.123115</td>\n",
       "      <td>13.482435</td>\n",
       "      <td>42.638923</td>\n",
       "      <td>37.059694</td>\n",
       "      <td>123.874328</td>\n",
       "      <td>1.152710</td>\n",
       "      <td>0.418732</td>\n",
       "      <td>22.4146</td>\n",
       "      <td>13.40975</td>\n",
       "      <td>11.330750</td>\n",
       "      <td>-13.974694</td>\n",
       "      <td>27.72795</td>\n",
       "    </tr>\n",
       "  </tbody>\n",
       "</table>\n",
       "</div>"
      ],
      "text/plain": [
       "          pelvic_incidence  pelvic tilt  lumbar_lordosis_angle  sacral_slope  \\\n",
       "Status                                                                         \n",
       "Abnormal         65.274888    18.798899              56.150000     44.639597   \n",
       "Normal           50.123115    13.482435              42.638923     37.059694   \n",
       "\n",
       "          pelvic_radius  degree_spondylolisthesis  pelvic_slope  Direct_tilt  \\\n",
       "Status                                                                         \n",
       "Abnormal     115.650323                 31.946516      0.501280      21.7506   \n",
       "Normal       123.874328                  1.152710      0.418732      22.4146   \n",
       "\n",
       "          thoracic_slope  cervical_tilt  sacrum_angle  scoliosis_slope  \n",
       "Status                                                                  \n",
       "Abnormal        12.77005      11.973735    -14.892070         24.50940  \n",
       "Normal          13.40975      11.330750    -13.974694         27.72795  "
      ]
     },
     "execution_count": 14,
     "metadata": {},
     "output_type": "execute_result"
    }
   ],
   "source": [
    "back_data.groupby('Status').median()"
   ]
  },
  {
   "cell_type": "markdown",
   "metadata": {
    "_uuid": "256d4eb49942d14bfcf498c5c19f561099fcf8d9",
    "colab_type": "text",
    "id": "6QGAQCAybuAc"
   },
   "source": [
    "### Box Plots\n",
    "To visualise the above data exploration, we make use of Box Plots as we are comparing Categorical and continuous variables.\n",
    "\n",
    "A couple of observations which jump out:\n",
    " - For the variable degree_spondilolisthesis, 'Normal' status clearly has a much lower range of values as compared to 'Abnormal'. Also shows the presence of a distant outlier. Not removing the outlier - as without domain knowledge, it would be hard to interpret whether it is an incorrect or a rare value.\n",
    " - For the variable 'Pelvic Radius' while 'Abnormal' has a much higher range of values, the median value of 'Abnormal' is lower than the median values of 'Normal'."
   ]
  },
  {
   "cell_type": "code",
   "execution_count": 15,
   "metadata": {
    "_uuid": "5672c2a87c6c2f89a6fc19977987126d32bdb0cb",
    "colab": {},
    "colab_type": "code",
    "id": "cQ3JrUXybuAd",
    "outputId": "0f7fd6d8-6a07-41cf-8791-5799db94ad87"
   },
   "outputs": [
    {
     "data": {
      "image/png": "[encoded data removed]",
      "text/plain": [
       "<Figure size 1080x1080 with 12 Axes>"
      ]
     },
     "metadata": {
      "needs_background": "light"
     },
     "output_type": "display_data"
    }
   ],
   "source": [
    "## Generating 3*4 matrix of box plots\n",
    "\n",
    "fig, axes = plt.subplots(3, 4, figsize = (15,15))\n",
    "axes = axes.flatten()\n",
    "\n",
    "for i in range(0,len(back_data.columns)-1):\n",
    "    sns.boxplot(x=\"Status\", y=back_data.iloc[:,i], data=back_data, orient='v', ax=axes[i])\n",
    "\n",
    "#plt.tight_layout()\n",
    "plt.show()"
   ]
  },
  {
   "cell_type": "markdown",
   "metadata": {
    "_uuid": "fb4a27f91db27ba18126afc275a01ad1864976c5",
    "colab_type": "text",
    "id": "xVDf47fbbuAg"
   },
   "source": [
    "## Final processing\n",
    "\n",
    " - For modelling purpose, we map all the predictor variables to a array X and the target variable to an array Y. \n",
    " - The class labels 'Abnormal' and 'Normal' are numerically encoded to 1 and 0. While this is not necessary as the sklearn module can handle it internally, it is convenient for graphing the Receiver Operating curve (if required).\n",
    " - The variables are subjected to Standardization (mean zero and unit variance) before being fed to the model."
   ]
  },
  {
   "cell_type": "code",
   "execution_count": 16,
   "metadata": {},
   "outputs": [],
   "source": [
    "back_data.loc[back_data.Status =='Abnormal','Status']=1"
   ]
  },
  {
   "cell_type": "code",
   "execution_count": 17,
   "metadata": {
    "_uuid": "7ae643d9a3ddf74c97c97fefa016f14cc207e6b8",
    "colab": {},
    "colab_type": "code",
    "id": "A5mpEkrHbuAh"
   },
   "outputs": [],
   "source": [
    "back_data.loc[back_data.Status=='Abnormal','Status'] = 1\n",
    "back_data.loc[back_data.Status=='Normal','Status'] = 0"
   ]
  },
  {
   "cell_type": "code",
   "execution_count": 18,
   "metadata": {},
   "outputs": [
    {
     "data": {
      "text/html": [
       "<div>\n",
       "<style scoped>\n",
       "    .dataframe tbody tr th:only-of-type {\n",
       "        vertical-align: middle;\n",
       "    }\n",
       "\n",
       "    .dataframe tbody tr th {\n",
       "        vertical-align: top;\n",
       "    }\n",
       "\n",
       "    .dataframe thead th {\n",
       "        text-align: right;\n",
       "    }\n",
       "</style>\n",
       "<table border=\"1\" class=\"dataframe\">\n",
       "  <thead>\n",
       "    <tr style=\"text-align: right;\">\n",
       "      <th></th>\n",
       "      <th>pelvic_incidence</th>\n",
       "      <th>pelvic tilt</th>\n",
       "      <th>lumbar_lordosis_angle</th>\n",
       "      <th>sacral_slope</th>\n",
       "      <th>pelvic_radius</th>\n",
       "      <th>degree_spondylolisthesis</th>\n",
       "      <th>pelvic_slope</th>\n",
       "      <th>Direct_tilt</th>\n",
       "      <th>thoracic_slope</th>\n",
       "      <th>cervical_tilt</th>\n",
       "      <th>sacrum_angle</th>\n",
       "      <th>scoliosis_slope</th>\n",
       "      <th>Status</th>\n",
       "    </tr>\n",
       "  </thead>\n",
       "  <tbody>\n",
       "    <tr>\n",
       "      <td>0</td>\n",
       "      <td>63.027818</td>\n",
       "      <td>22.552586</td>\n",
       "      <td>39.609117</td>\n",
       "      <td>40.475232</td>\n",
       "      <td>98.672917</td>\n",
       "      <td>-0.254400</td>\n",
       "      <td>0.744503</td>\n",
       "      <td>12.5661</td>\n",
       "      <td>14.5386</td>\n",
       "      <td>15.30468</td>\n",
       "      <td>-28.658501</td>\n",
       "      <td>43.5123</td>\n",
       "      <td>1</td>\n",
       "    </tr>\n",
       "    <tr>\n",
       "      <td>1</td>\n",
       "      <td>39.056951</td>\n",
       "      <td>10.060991</td>\n",
       "      <td>25.015378</td>\n",
       "      <td>28.995960</td>\n",
       "      <td>114.405425</td>\n",
       "      <td>4.564259</td>\n",
       "      <td>0.415186</td>\n",
       "      <td>12.8874</td>\n",
       "      <td>17.5323</td>\n",
       "      <td>16.78486</td>\n",
       "      <td>-25.530607</td>\n",
       "      <td>16.1102</td>\n",
       "      <td>1</td>\n",
       "    </tr>\n",
       "    <tr>\n",
       "      <td>2</td>\n",
       "      <td>68.832021</td>\n",
       "      <td>22.218482</td>\n",
       "      <td>50.092194</td>\n",
       "      <td>46.613539</td>\n",
       "      <td>105.985135</td>\n",
       "      <td>-3.530317</td>\n",
       "      <td>0.474889</td>\n",
       "      <td>26.8343</td>\n",
       "      <td>17.4861</td>\n",
       "      <td>16.65897</td>\n",
       "      <td>-29.031888</td>\n",
       "      <td>19.2221</td>\n",
       "      <td>1</td>\n",
       "    </tr>\n",
       "    <tr>\n",
       "      <td>3</td>\n",
       "      <td>69.297008</td>\n",
       "      <td>24.652878</td>\n",
       "      <td>44.311238</td>\n",
       "      <td>44.644130</td>\n",
       "      <td>101.868495</td>\n",
       "      <td>11.211523</td>\n",
       "      <td>0.369345</td>\n",
       "      <td>23.5603</td>\n",
       "      <td>12.7074</td>\n",
       "      <td>11.42447</td>\n",
       "      <td>-30.470246</td>\n",
       "      <td>18.8329</td>\n",
       "      <td>1</td>\n",
       "    </tr>\n",
       "    <tr>\n",
       "      <td>4</td>\n",
       "      <td>49.712859</td>\n",
       "      <td>9.652075</td>\n",
       "      <td>28.317406</td>\n",
       "      <td>40.060784</td>\n",
       "      <td>108.168725</td>\n",
       "      <td>7.918501</td>\n",
       "      <td>0.543360</td>\n",
       "      <td>35.4940</td>\n",
       "      <td>15.9546</td>\n",
       "      <td>8.87237</td>\n",
       "      <td>-16.378376</td>\n",
       "      <td>24.9171</td>\n",
       "      <td>1</td>\n",
       "    </tr>\n",
       "  </tbody>\n",
       "</table>\n",
       "</div>"
      ],
      "text/plain": [
       "   pelvic_incidence  pelvic tilt  lumbar_lordosis_angle  sacral_slope  \\\n",
       "0         63.027818    22.552586              39.609117     40.475232   \n",
       "1         39.056951    10.060991              25.015378     28.995960   \n",
       "2         68.832021    22.218482              50.092194     46.613539   \n",
       "3         69.297008    24.652878              44.311238     44.644130   \n",
       "4         49.712859     9.652075              28.317406     40.060784   \n",
       "\n",
       "   pelvic_radius  degree_spondylolisthesis  pelvic_slope  Direct_tilt  \\\n",
       "0      98.672917                 -0.254400      0.744503      12.5661   \n",
       "1     114.405425                  4.564259      0.415186      12.8874   \n",
       "2     105.985135                 -3.530317      0.474889      26.8343   \n",
       "3     101.868495                 11.211523      0.369345      23.5603   \n",
       "4     108.168725                  7.918501      0.543360      35.4940   \n",
       "\n",
       "   thoracic_slope  cervical_tilt  sacrum_angle  scoliosis_slope  Status  \n",
       "0         14.5386       15.30468    -28.658501          43.5123       1  \n",
       "1         17.5323       16.78486    -25.530607          16.1102       1  \n",
       "2         17.4861       16.65897    -29.031888          19.2221       1  \n",
       "3         12.7074       11.42447    -30.470246          18.8329       1  \n",
       "4         15.9546        8.87237    -16.378376          24.9171       1  "
      ]
     },
     "execution_count": 18,
     "metadata": {},
     "output_type": "execute_result"
    }
   ],
   "source": [
    "back_data.head()"
   ]
  },
  {
   "cell_type": "code",
   "execution_count": 19,
   "metadata": {
    "_uuid": "d588a2896d3be010e52c3cadc287ac304be2b4bd",
    "colab": {},
    "colab_type": "code",
    "id": "UZjeXDuJbuAj"
   },
   "outputs": [],
   "source": [
    "X = back_data.loc[:, back_data.columns != \"Status\"]\n",
    "y = back_data.loc[:, back_data.columns == \"Status\"]"
   ]
  },
  {
   "cell_type": "markdown",
   "metadata": {
    "_uuid": "01fede2da03ef8f75bb601a729fed2002b26ce1b",
    "colab_type": "text",
    "id": "UWsTW-ICbuAl"
   },
   "source": [
    "## Modelling and Feature Interpretation\n",
    "\n",
    " - Implementing a logistic regression classifier with a train test split in a 70:30 ratio. \n",
    " - The fitted model when applied on the test data returns an accuracy of 81.7%. "
   ]
  },
  {
   "cell_type": "code",
   "execution_count": 20,
   "metadata": {
    "_uuid": "bcdcebb8e975d4283098da23cfdf94029e05b758",
    "colab": {},
    "colab_type": "code",
    "id": "v-7du8yubuAm"
   },
   "outputs": [],
   "source": [
    "def data_preprocess(X,y):\n",
    "    X_train, X_test, y_train, y_test = train_test_split(X, y, test_size=0.3, random_state=7)\n",
    "    from sklearn.preprocessing import StandardScaler\n",
    "    scaler = StandardScaler(copy=True, with_mean=True, with_std=True)\n",
    "\n",
    "    scaler.fit(X_train)\n",
    "\n",
    "    # Now apply the transformations to the data:\n",
    "    train_scaled = scaler.transform(X_train)\n",
    "    test_scaled = scaler.transform(X_test)\n",
    "    return(train_scaled, test_scaled, y_train, y_test)"
   ]
  },
  {
   "cell_type": "code",
   "execution_count": 21,
   "metadata": {
    "_uuid": "ab02e7254146b8c317b3d9caf30a8f6eb98008a9",
    "colab": {},
    "colab_type": "code",
    "id": "ZIzZjdFpbuAq",
    "outputId": "db053f66-35bb-43c4-f56f-d7351fa0e896"
   },
   "outputs": [
    {
     "name": "stderr",
     "output_type": "stream",
     "text": [
      "C:\\ProgramData\\Anaconda3\\lib\\site-packages\\sklearn\\linear_model\\logistic.py:432: FutureWarning: Default solver will be changed to 'lbfgs' in 0.22. Specify a solver to silence this warning.\n",
      "  FutureWarning)\n",
      "C:\\ProgramData\\Anaconda3\\lib\\site-packages\\sklearn\\utils\\validation.py:724: DataConversionWarning: A column-vector y was passed when a 1d array was expected. Please change the shape of y to (n_samples, ), for example using ravel().\n",
      "  y = column_or_1d(y, warn=True)\n"
     ]
    },
    {
     "data": {
      "text/plain": [
       "LogisticRegression(C=1.0, class_weight=None, dual=False, fit_intercept=True,\n",
       "                   intercept_scaling=1, l1_ratio=None, max_iter=100,\n",
       "                   multi_class='warn', n_jobs=None, penalty='l2',\n",
       "                   random_state=None, solver='warn', tol=0.0001, verbose=0,\n",
       "                   warm_start=False)"
      ]
     },
     "execution_count": 21,
     "metadata": {},
     "output_type": "execute_result"
    }
   ],
   "source": [
    "X_train_scaled, X_test_scaled, y_train, y_test = data_preprocess(X,y)\n",
    "logreg_result = LogisticRegression()\n",
    "logreg_result.fit(X_train_scaled, y_train)\n",
    "\n",
    "\n"
   ]
  },
  {
   "cell_type": "code",
   "execution_count": 22,
   "metadata": {},
   "outputs": [
    {
     "name": "stdout",
     "output_type": "stream",
     "text": [
      "Training set score: 0.862\n",
      "Test set score: 0.871\n"
     ]
    }
   ],
   "source": [
    "print(\"Training set score: {:.3f}\".format(logreg_result.score(X_train_scaled,y_train)))\n",
    "print(\"Test set score: {:.3f}\".format(logreg_result.score(X_test_scaled,y_test)))"
   ]
  },
  {
   "cell_type": "markdown",
   "metadata": {},
   "source": [
    "Verify the Multicollinearilty "
   ]
  },
  {
   "cell_type": "code",
   "execution_count": 23,
   "metadata": {},
   "outputs": [
    {
     "name": "stderr",
     "output_type": "stream",
     "text": [
      "C:\\ProgramData\\Anaconda3\\lib\\site-packages\\statsmodels\\stats\\outliers_influence.py:185: RuntimeWarning: divide by zero encountered in double_scalars\n",
      "  vif = 1. / (1. - r_squared_i)\n"
     ]
    },
    {
     "data": {
      "text/html": [
       "<div>\n",
       "<style scoped>\n",
       "    .dataframe tbody tr th:only-of-type {\n",
       "        vertical-align: middle;\n",
       "    }\n",
       "\n",
       "    .dataframe tbody tr th {\n",
       "        vertical-align: top;\n",
       "    }\n",
       "\n",
       "    .dataframe thead th {\n",
       "        text-align: right;\n",
       "    }\n",
       "</style>\n",
       "<table border=\"1\" class=\"dataframe\">\n",
       "  <thead>\n",
       "    <tr style=\"text-align: right;\">\n",
       "      <th></th>\n",
       "      <th>VIF Factor</th>\n",
       "      <th>features</th>\n",
       "    </tr>\n",
       "  </thead>\n",
       "  <tbody>\n",
       "    <tr>\n",
       "      <td>0</td>\n",
       "      <td>inf</td>\n",
       "      <td>pelvic_incidence</td>\n",
       "    </tr>\n",
       "    <tr>\n",
       "      <td>1</td>\n",
       "      <td>inf</td>\n",
       "      <td>pelvic tilt</td>\n",
       "    </tr>\n",
       "    <tr>\n",
       "      <td>2</td>\n",
       "      <td>19.443920</td>\n",
       "      <td>lumbar_lordosis_angle</td>\n",
       "    </tr>\n",
       "    <tr>\n",
       "      <td>3</td>\n",
       "      <td>inf</td>\n",
       "      <td>sacral_slope</td>\n",
       "    </tr>\n",
       "    <tr>\n",
       "      <td>4</td>\n",
       "      <td>34.370439</td>\n",
       "      <td>pelvic_radius</td>\n",
       "    </tr>\n",
       "    <tr>\n",
       "      <td>5</td>\n",
       "      <td>2.436405</td>\n",
       "      <td>degree_spondylolisthesis</td>\n",
       "    </tr>\n",
       "    <tr>\n",
       "      <td>6</td>\n",
       "      <td>3.811737</td>\n",
       "      <td>pelvic_slope</td>\n",
       "    </tr>\n",
       "    <tr>\n",
       "      <td>7</td>\n",
       "      <td>7.225984</td>\n",
       "      <td>Direct_tilt</td>\n",
       "    </tr>\n",
       "    <tr>\n",
       "      <td>8</td>\n",
       "      <td>15.107876</td>\n",
       "      <td>thoracic_slope</td>\n",
       "    </tr>\n",
       "    <tr>\n",
       "      <td>9</td>\n",
       "      <td>16.778145</td>\n",
       "      <td>cervical_tilt</td>\n",
       "    </tr>\n",
       "    <tr>\n",
       "      <td>10</td>\n",
       "      <td>2.324297</td>\n",
       "      <td>sacrum_angle</td>\n",
       "    </tr>\n",
       "    <tr>\n",
       "      <td>11</td>\n",
       "      <td>7.049591</td>\n",
       "      <td>scoliosis_slope</td>\n",
       "    </tr>\n",
       "  </tbody>\n",
       "</table>\n",
       "</div>"
      ],
      "text/plain": [
       "    VIF Factor                  features\n",
       "0          inf          pelvic_incidence\n",
       "1          inf               pelvic tilt\n",
       "2    19.443920     lumbar_lordosis_angle\n",
       "3          inf              sacral_slope\n",
       "4    34.370439             pelvic_radius\n",
       "5     2.436405  degree_spondylolisthesis\n",
       "6     3.811737              pelvic_slope\n",
       "7     7.225984               Direct_tilt\n",
       "8    15.107876            thoracic_slope\n",
       "9    16.778145             cervical_tilt\n",
       "10    2.324297              sacrum_angle\n",
       "11    7.049591           scoliosis_slope"
      ]
     },
     "execution_count": 23,
     "metadata": {},
     "output_type": "execute_result"
    }
   ],
   "source": [
    "from statsmodels.stats.outliers_influence import variance_inflation_factor\n",
    "vif = pd.DataFrame()\n",
    "vif[\"VIF Factor\"] = [variance_inflation_factor(X.values, i) for i in range(X.shape[1])]\n",
    "vif[\"features\"] = X.columns\n",
    "vif"
   ]
  },
  {
   "cell_type": "markdown",
   "metadata": {
    "_uuid": "6017671a5bbe43507994e893768802a29bff72a0",
    "colab_type": "text",
    "id": "LkcyupAUbuAt"
   },
   "source": [
    "## To explain or to predict\n",
    "\n",
    " - While the previous model implemented was good in predicting the Target variable on a test set, we did not interpret anything about the individual features - which variable(s) influence the Target variable more. \n",
    " - Since this is a medical dataset, there could be a need for explaining the effect of individual variables on the response variable. Hence it would be a good idea to explore the model co-efficients of the predictor variables to see how well each of them influence the response. \n",
    " - Let us attempt this in the next section."
   ]
  },
  {
   "cell_type": "code",
   "execution_count": 24,
   "metadata": {
    "_uuid": "9afeb023dfd9075e7ec3b65ba602e6c0ab4d8692",
    "colab": {},
    "colab_type": "code",
    "id": "6tKehjDcbuAt",
    "outputId": "d80f686f-a413-4269-f321-de417cab0857"
   },
   "outputs": [
    {
     "name": "stderr",
     "output_type": "stream",
     "text": [
      "C:\\ProgramData\\Anaconda3\\lib\\site-packages\\statsmodels\\base\\model.py:512: ConvergenceWarning: Maximum Likelihood optimization failed to converge. Check mle_retvals\n",
      "  \"Check mle_retvals\", ConvergenceWarning)\n"
     ]
    },
    {
     "name": "stdout",
     "output_type": "stream",
     "text": [
      "Warning: Maximum number of iterations has been exceeded.\n",
      "         Current function value: 0.289269\n",
      "         Iterations: 35\n",
      "                           Logit Regression Results                           \n",
      "==============================================================================\n",
      "Dep. Variable:                 Status   No. Observations:                  217\n",
      "Model:                          Logit   Df Residuals:                      204\n",
      "Method:                           MLE   Df Model:                           12\n",
      "Date:                Tue, 07 Jul 2020   Pseudo R-squ.:                  0.5291\n",
      "Time:                        09:41:50   Log-Likelihood:                -62.771\n",
      "converged:                      False   LL-Null:                       -133.31\n",
      "Covariance Type:            nonrobust   LLR p-value:                 3.625e-24\n",
      "==============================================================================\n",
      "                 coef    std err          z      P>|z|      [0.025      0.975]\n",
      "------------------------------------------------------------------------------\n",
      "const          3.4358      0.613      5.602      0.000       2.234       4.638\n",
      "x1            -0.8361   1.27e+07  -6.57e-08      1.000   -2.49e+07    2.49e+07\n",
      "x2             1.3009   7.63e+06   1.71e-07      1.000   -1.49e+07    1.49e+07\n",
      "x3            -0.2405      0.542     -0.443      0.657      -1.303       0.822\n",
      "x4            -0.6897   9.47e+06  -7.28e-08      1.000   -1.86e+07    1.86e+07\n",
      "x5            -1.3568      0.363     -3.742      0.000      -2.067      -0.646\n",
      "x6             5.5250      0.946      5.842      0.000       3.671       7.379\n",
      "x7            -0.0824      0.229     -0.360      0.719      -0.531       0.366\n",
      "x8             0.0078      0.229      0.034      0.973      -0.441       0.456\n",
      "x9            -0.2780      0.232     -1.196      0.232      -0.734       0.178\n",
      "x10            0.1826      0.234      0.781      0.435      -0.276       0.641\n",
      "x11            0.1490      0.235      0.635      0.525      -0.311       0.609\n",
      "x12           -0.1469      0.225     -0.654      0.513      -0.587       0.293\n",
      "==============================================================================\n",
      "\n",
      "Possibly complete quasi-separation: A fraction 0.14 of observations can be\n",
      "perfectly predicted. This might indicate that there is complete\n",
      "quasi-separation. In this case some parameters will not be identified.\n"
     ]
    }
   ],
   "source": [
    "X_train_scaled = sm.add_constant(X_train_scaled)\n",
    "logit_model = sm.Logit(y_train, X_train_scaled)\n",
    "result = logit_model.fit()\n",
    "print(result.summary())"
   ]
  },
  {
   "cell_type": "markdown",
   "metadata": {
    "_uuid": "3ea795f74a1be5edcddf2061a4ebc1c533df6626",
    "colab_type": "text",
    "id": "ZbCJbZjSbuAw"
   },
   "source": [
    "## Understanding the model result summary\n",
    "\n",
    " - The above model did not converge because some variables were highly correlated with each other and this would have led to the correlation/ covariance matrix to be singular. \n",
    " - A matrix can become singular if any rows(columns) can be expressed as a linear combination of any other rows (columns). \n",
    " - In fact, it was very intersting to note that in our data, the Pelvic Incidence column values are an exact sum of Pelvic Tilt and Sacral Slope. So that explains.\n",
    " - Also in our statistical test results, the Standard error values are very high and p-value is 1 for these three variables. Hence we will remove them and re run the model. "
   ]
  },
  {
   "cell_type": "code",
   "execution_count": 25,
   "metadata": {
    "_uuid": "d70534e20ba22ff158669774dec9efd5072e3cc5",
    "colab": {},
    "colab_type": "code",
    "id": "2NK03L97buAw"
   },
   "outputs": [],
   "source": [
    "#Removing the highly correlated variables which also had high standard error\n",
    "cols_to_include = [cols for cols in X.columns if cols not in ['pelvic_incidence', 'pelvic tilt','sacral_slope']]\n",
    "X = back_data[cols_to_include]"
   ]
  },
  {
   "cell_type": "code",
   "execution_count": 26,
   "metadata": {
    "_uuid": "d4434a23b84fb7060183a4d1c3867adf42081851",
    "colab": {},
    "colab_type": "code",
    "id": "ce3_v2ambuA0",
    "outputId": "1ffd9f59-f7be-4217-a78a-128ddbd38f95",
    "scrolled": true
   },
   "outputs": [
    {
     "name": "stdout",
     "output_type": "stream",
     "text": [
      "Training set score: 0.811\n",
      "Test set score: 0.817\n"
     ]
    },
    {
     "name": "stderr",
     "output_type": "stream",
     "text": [
      "C:\\ProgramData\\Anaconda3\\lib\\site-packages\\sklearn\\linear_model\\logistic.py:432: FutureWarning: Default solver will be changed to 'lbfgs' in 0.22. Specify a solver to silence this warning.\n",
      "  FutureWarning)\n",
      "C:\\ProgramData\\Anaconda3\\lib\\site-packages\\sklearn\\utils\\validation.py:724: DataConversionWarning: A column-vector y was passed when a 1d array was expected. Please change the shape of y to (n_samples, ), for example using ravel().\n",
      "  y = column_or_1d(y, warn=True)\n"
     ]
    }
   ],
   "source": [
    "X_train_scaled, X_test_scaled, y_train, y_test = data_preprocess(X,y)\n",
    "\n",
    "logreg_result = LogisticRegression()\n",
    "logreg_result.fit(X_train_scaled, y_train)\n",
    "\n",
    "print(\"Training set score: {:.3f}\".format(logreg_result.score(X_train_scaled,y_train)))\n",
    "print(\"Test set score: {:.3f}\".format(logreg_result.score(X_test_scaled,y_test)))"
   ]
  },
  {
   "cell_type": "markdown",
   "metadata": {
    "_uuid": "4f92de61e5d3c9fe09e954e1e82eefc6d9fbbd7f",
    "colab_type": "text",
    "id": "WuWDWkRpbuA3"
   },
   "source": [
    "The test results indicate that the predictive power has gone down after removing the highly correlated variables. Let us look at the statistical summary below."
   ]
  },
  {
   "cell_type": "code",
   "execution_count": 27,
   "metadata": {
    "_uuid": "181e028da6b161038e67fb990dddd79fde7b493f",
    "colab": {},
    "colab_type": "code",
    "id": "v6aUegMCbuA3",
    "outputId": "5fede440-51f2-4a5a-804c-a0f114d19ba5"
   },
   "outputs": [
    {
     "name": "stdout",
     "output_type": "stream",
     "text": [
      "Optimization terminated successfully.\n",
      "         Current function value: 0.520173\n",
      "         Iterations 6\n",
      "                           Logit Regression Results                           \n",
      "==============================================================================\n",
      "Dep. Variable:                 Status   No. Observations:                  217\n",
      "Model:                          Logit   Df Residuals:                      208\n",
      "Method:                           MLE   Df Model:                            8\n",
      "Date:                Tue, 07 Jul 2020   Pseudo R-squ.:                  0.1533\n",
      "Time:                        09:41:52   Log-Likelihood:                -112.88\n",
      "converged:                       True   LL-Null:                       -133.31\n",
      "Covariance Type:            nonrobust   LLR p-value:                 2.207e-06\n",
      "==============================================================================\n",
      "                 coef    std err          z      P>|z|      [0.025      0.975]\n",
      "------------------------------------------------------------------------------\n",
      "x1            -0.4176      0.244     -1.714      0.087      -0.895       0.060\n",
      "x2            -0.7766      0.195     -3.987      0.000      -1.158      -0.395\n",
      "x3             1.5626      0.304      5.134      0.000       0.966       2.159\n",
      "x4             0.0349      0.167      0.209      0.835      -0.293       0.363\n",
      "x5            -0.0052      0.166     -0.031      0.975      -0.330       0.320\n",
      "x6            -0.1141      0.167     -0.683      0.494      -0.442       0.213\n",
      "x7             0.1141      0.167      0.684      0.494      -0.213       0.441\n",
      "x8             0.0864      0.170      0.509      0.611      -0.246       0.419\n",
      "x9            -0.0777      0.164     -0.473      0.636      -0.400       0.244\n",
      "==============================================================================\n"
     ]
    }
   ],
   "source": [
    "# to get the statistical summary of the new model\n",
    "logit_model=sm.Logit(y_train,X_train_scaled)\n",
    "result=logit_model.fit()\n",
    "print(result.summary())"
   ]
  },
  {
   "cell_type": "markdown",
   "metadata": {
    "_uuid": "fbd9455f44dc10200f7ef2119f3e7012b30ba79e",
    "colab_type": "text",
    "id": "vm9UkieFbuA6"
   },
   "source": [
    "## Model convergence\n",
    "- The model has now converged after removing the highly correlated variables.\n",
    "- There are a few predictors with p-values less than 0.05 (assuming a 95% confidence level). Let us consider only those predictors and re run the model"
   ]
  },
  {
   "cell_type": "code",
   "execution_count": 28,
   "metadata": {
    "_uuid": "4bae1b585c5f4108fea6903f9440dec672031994",
    "colab": {},
    "colab_type": "code",
    "id": "NkJRBCKQbuA6"
   },
   "outputs": [],
   "source": [
    "# considering only the variables which have p-value less than 0.05\n",
    "X_trim_1 = X.loc[:,['lumbar_lordosis_angle','pelvic_radius','degree_spondylolisthesis']]"
   ]
  },
  {
   "cell_type": "markdown",
   "metadata": {
    "_uuid": "6574ef17754d812063911e8a47b84f3899fbae7b",
    "colab_type": "text",
    "id": "8whOpY_gbuA8"
   },
   "source": [
    "## Final Model Selection\n",
    "\n",
    "- The test result below indicate that there is a marginal increase in predictive power - the accuracy on the test set has increased from 74% to 77%. \n",
    "- This can be our final chosen model (even though Variable 1 - lumbar_lordosis_angle has a p-value marginally greater than 0.05). \n"
   ]
  },
  {
   "cell_type": "code",
   "execution_count": 29,
   "metadata": {
    "_uuid": "f2166b9ab4eb654a4baf6277dc5f4bdfc29f129f",
    "colab": {},
    "colab_type": "code",
    "id": "ev_X6iFXbuA8",
    "outputId": "42e47263-c2d9-4831-83a9-b84700b8e5c3"
   },
   "outputs": [
    {
     "name": "stdout",
     "output_type": "stream",
     "text": [
      "Training set score: 0.783\n",
      "Test set score: 0.849\n"
     ]
    },
    {
     "name": "stderr",
     "output_type": "stream",
     "text": [
      "C:\\ProgramData\\Anaconda3\\lib\\site-packages\\sklearn\\linear_model\\logistic.py:432: FutureWarning: Default solver will be changed to 'lbfgs' in 0.22. Specify a solver to silence this warning.\n",
      "  FutureWarning)\n",
      "C:\\ProgramData\\Anaconda3\\lib\\site-packages\\sklearn\\utils\\validation.py:724: DataConversionWarning: A column-vector y was passed when a 1d array was expected. Please change the shape of y to (n_samples, ), for example using ravel().\n",
      "  y = column_or_1d(y, warn=True)\n"
     ]
    }
   ],
   "source": [
    "X_train_scaled, X_test_scaled, y_train, y_test = data_preprocess(X_trim_1,y)\n",
    "\n",
    "logreg_result = LogisticRegression()\n",
    "logreg_result.fit(X_train_scaled, y_train)\n",
    "\n",
    "print(\"Training set score: {:.3f}\".format(logreg_result.score(X_train_scaled,y_train)))\n",
    "print(\"Test set score: {:.3f}\".format(logreg_result.score(X_test_scaled,y_test)))"
   ]
  },
  {
   "cell_type": "code",
   "execution_count": 30,
   "metadata": {},
   "outputs": [
    {
     "data": {
      "text/plain": [
       "array([1.77661673])"
      ]
     },
     "execution_count": 30,
     "metadata": {},
     "output_type": "execute_result"
    }
   ],
   "source": [
    "logreg_result.intercept_"
   ]
  },
  {
   "cell_type": "code",
   "execution_count": 31,
   "metadata": {},
   "outputs": [
    {
     "data": {
      "text/plain": [
       "array([[-0.58663635, -0.95866871,  2.81527595]])"
      ]
     },
     "execution_count": 31,
     "metadata": {},
     "output_type": "execute_result"
    }
   ],
   "source": [
    "logreg_result.coef_"
   ]
  },
  {
   "cell_type": "code",
   "execution_count": 32,
   "metadata": {},
   "outputs": [
    {
     "data": {
      "text/plain": [
       "array([[5.30020551e-02, 9.46997945e-01],\n",
       "       [1.92731243e-02, 9.80726876e-01],\n",
       "       [1.02635942e-03, 9.98973641e-01],\n",
       "       [5.40741057e-01, 4.59258943e-01],\n",
       "       [2.97486269e-03, 9.97025137e-01],\n",
       "       [4.59023194e-01, 5.40976806e-01],\n",
       "       [1.65392099e-01, 8.34607901e-01],\n",
       "       [2.51860872e-01, 7.48139128e-01],\n",
       "       [3.89343857e-02, 9.61065614e-01],\n",
       "       [5.95679449e-01, 4.04320551e-01],\n",
       "       [2.32928722e-01, 7.67071278e-01],\n",
       "       [1.22422409e-01, 8.77577591e-01],\n",
       "       [3.55427553e-01, 6.44572447e-01],\n",
       "       [5.58791312e-02, 9.44120869e-01],\n",
       "       [7.53689497e-01, 2.46310503e-01],\n",
       "       [4.81731187e-01, 5.18268813e-01],\n",
       "       [5.02335570e-01, 4.97664430e-01],\n",
       "       [7.59797600e-01, 2.40202400e-01],\n",
       "       [5.28763434e-01, 4.71236566e-01],\n",
       "       [3.55187997e-02, 9.64481200e-01],\n",
       "       [3.12149645e-02, 9.68785035e-01],\n",
       "       [3.35323551e-01, 6.64676449e-01],\n",
       "       [3.01219944e-04, 9.99698780e-01],\n",
       "       [5.62060826e-01, 4.37939174e-01],\n",
       "       [1.18757273e-01, 8.81242727e-01],\n",
       "       [6.94129327e-01, 3.05870673e-01],\n",
       "       [2.91087184e-02, 9.70891282e-01],\n",
       "       [9.57295801e-01, 4.27041991e-02],\n",
       "       [4.72581999e-01, 5.27418001e-01],\n",
       "       [7.98176494e-01, 2.01823506e-01],\n",
       "       [4.72717900e-01, 5.27282100e-01],\n",
       "       [3.30216803e-03, 9.96697832e-01],\n",
       "       [6.42602536e-01, 3.57397464e-01],\n",
       "       [7.94162549e-01, 2.05837451e-01],\n",
       "       [6.77107600e-03, 9.93228924e-01],\n",
       "       [4.67122036e-01, 5.32877964e-01],\n",
       "       [1.08081383e-02, 9.89191862e-01],\n",
       "       [3.69989073e-01, 6.30010927e-01],\n",
       "       [2.38591332e-01, 7.61408668e-01],\n",
       "       [7.16910398e-01, 2.83089602e-01],\n",
       "       [6.53924033e-01, 3.46075967e-01],\n",
       "       [2.14530733e-03, 9.97854693e-01],\n",
       "       [1.70877131e-02, 9.82912287e-01],\n",
       "       [5.46276272e-01, 4.53723728e-01],\n",
       "       [1.05463924e-01, 8.94536076e-01],\n",
       "       [2.55626292e-01, 7.44373708e-01],\n",
       "       [4.11978715e-01, 5.88021285e-01],\n",
       "       [2.16125490e-01, 7.83874510e-01],\n",
       "       [8.39842112e-02, 9.16015789e-01],\n",
       "       [2.25325923e-01, 7.74674077e-01],\n",
       "       [1.78063755e-05, 9.99982194e-01],\n",
       "       [5.51202738e-01, 4.48797262e-01],\n",
       "       [2.11599023e-02, 9.78840098e-01],\n",
       "       [4.51693329e-01, 5.48306671e-01],\n",
       "       [6.03808048e-01, 3.96191952e-01],\n",
       "       [4.02208642e-01, 5.97791358e-01],\n",
       "       [3.32548740e-01, 6.67451260e-01],\n",
       "       [1.97718566e-01, 8.02281434e-01],\n",
       "       [6.05878217e-01, 3.94121783e-01],\n",
       "       [7.84144442e-01, 2.15855558e-01],\n",
       "       [3.06710589e-01, 6.93289411e-01],\n",
       "       [4.25597332e-03, 9.95744027e-01],\n",
       "       [6.57833611e-01, 3.42166389e-01],\n",
       "       [2.25220127e-02, 9.77477987e-01],\n",
       "       [4.78329711e-02, 9.52167029e-01],\n",
       "       [1.25229660e-02, 9.87477034e-01],\n",
       "       [1.42134767e-01, 8.57865233e-01],\n",
       "       [1.84514703e-02, 9.81548530e-01],\n",
       "       [7.15858821e-01, 2.84141179e-01],\n",
       "       [4.26482145e-01, 5.73517855e-01],\n",
       "       [7.77671466e-01, 2.22328534e-01],\n",
       "       [3.42883819e-01, 6.57116181e-01],\n",
       "       [2.33649053e-01, 7.66350947e-01],\n",
       "       [1.69254384e-01, 8.30745616e-01],\n",
       "       [8.98758256e-02, 9.10124174e-01],\n",
       "       [3.31709618e-02, 9.66829038e-01],\n",
       "       [7.56485139e-01, 2.43514861e-01],\n",
       "       [6.20448019e-03, 9.93795520e-01],\n",
       "       [1.83840119e-01, 8.16159881e-01],\n",
       "       [2.31899753e-01, 7.68100247e-01],\n",
       "       [3.58971972e-01, 6.41028028e-01],\n",
       "       [4.94989738e-03, 9.95050103e-01],\n",
       "       [8.41046788e-01, 1.58953212e-01],\n",
       "       [3.00708460e-02, 9.69929154e-01],\n",
       "       [5.38429970e-01, 4.61570030e-01],\n",
       "       [7.23210429e-01, 2.76789571e-01],\n",
       "       [8.10009681e-03, 9.91899903e-01],\n",
       "       [3.42885756e-01, 6.57114244e-01],\n",
       "       [6.50501189e-01, 3.49498811e-01],\n",
       "       [9.92107033e-02, 9.00789297e-01],\n",
       "       [1.29109021e-02, 9.87089098e-01],\n",
       "       [5.94854576e-01, 4.05145424e-01],\n",
       "       [2.05383747e-02, 9.79461625e-01],\n",
       "       [4.15144429e-01, 5.84855571e-01],\n",
       "       [3.75388029e-01, 6.24611971e-01],\n",
       "       [1.70361477e-02, 9.82963852e-01],\n",
       "       [3.28172846e-01, 6.71827154e-01],\n",
       "       [6.97027263e-01, 3.02972737e-01],\n",
       "       [5.70560738e-01, 4.29439262e-01],\n",
       "       [5.72645425e-01, 4.27354575e-01],\n",
       "       [4.87377525e-01, 5.12622475e-01],\n",
       "       [1.08265808e-02, 9.89173419e-01],\n",
       "       [6.65896562e-01, 3.34103438e-01],\n",
       "       [4.36887597e-03, 9.95631124e-01],\n",
       "       [6.63571207e-02, 9.33642879e-01],\n",
       "       [1.59121053e-04, 9.99840879e-01],\n",
       "       [9.70739240e-02, 9.02926076e-01],\n",
       "       [5.15706088e-01, 4.84293912e-01],\n",
       "       [5.02715456e-03, 9.94972845e-01],\n",
       "       [7.01736123e-01, 2.98263877e-01],\n",
       "       [6.57677149e-01, 3.42322851e-01],\n",
       "       [8.20382694e-01, 1.79617306e-01],\n",
       "       [2.86464839e-02, 9.71353516e-01],\n",
       "       [3.82100101e-01, 6.17899899e-01],\n",
       "       [1.09275841e-01, 8.90724159e-01],\n",
       "       [1.79220506e-03, 9.98207795e-01],\n",
       "       [1.47080703e-02, 9.85291930e-01],\n",
       "       [1.48268588e-03, 9.98517314e-01],\n",
       "       [3.01139394e-01, 6.98860606e-01],\n",
       "       [6.12041575e-01, 3.87958425e-01],\n",
       "       [8.58247950e-02, 9.14175205e-01],\n",
       "       [7.93726342e-03, 9.92062737e-01],\n",
       "       [3.80198234e-02, 9.61980177e-01],\n",
       "       [5.71520070e-01, 4.28479930e-01],\n",
       "       [2.30932700e-02, 9.76906730e-01],\n",
       "       [5.42251393e-01, 4.57748607e-01],\n",
       "       [1.28499726e-01, 8.71500274e-01],\n",
       "       [3.81811221e-02, 9.61818878e-01],\n",
       "       [8.02636050e-02, 9.19736395e-01],\n",
       "       [1.50702627e-02, 9.84929737e-01],\n",
       "       [2.86968440e-01, 7.13031560e-01],\n",
       "       [4.16813819e-01, 5.83186181e-01],\n",
       "       [2.30086809e-02, 9.76991319e-01],\n",
       "       [1.12464154e-03, 9.98875358e-01],\n",
       "       [8.63955372e-01, 1.36044628e-01],\n",
       "       [6.73317834e-01, 3.26682166e-01],\n",
       "       [6.36413844e-01, 3.63586156e-01],\n",
       "       [3.86184611e-01, 6.13815389e-01],\n",
       "       [1.87589196e-01, 8.12410804e-01],\n",
       "       [6.38311755e-01, 3.61688245e-01],\n",
       "       [6.22548301e-01, 3.77451699e-01],\n",
       "       [5.52848088e-01, 4.47151912e-01],\n",
       "       [2.46535736e-01, 7.53464264e-01],\n",
       "       [4.13323007e-01, 5.86676993e-01],\n",
       "       [2.22454956e-04, 9.99777545e-01],\n",
       "       [1.79091240e-01, 8.20908760e-01],\n",
       "       [6.45124754e-01, 3.54875246e-01],\n",
       "       [1.49161127e-02, 9.85083887e-01],\n",
       "       [2.22186799e-02, 9.77781320e-01],\n",
       "       [3.99470074e-02, 9.60052993e-01],\n",
       "       [5.29078410e-01, 4.70921590e-01],\n",
       "       [7.50180422e-04, 9.99249820e-01],\n",
       "       [3.66188196e-01, 6.33811804e-01],\n",
       "       [4.42894561e-01, 5.57105439e-01],\n",
       "       [1.61947891e-02, 9.83805211e-01],\n",
       "       [3.05540702e-02, 9.69445930e-01],\n",
       "       [3.64401475e-01, 6.35598525e-01],\n",
       "       [5.30979854e-01, 4.69020146e-01],\n",
       "       [4.52783206e-01, 5.47216794e-01],\n",
       "       [6.16329190e-03, 9.93836708e-01],\n",
       "       [4.72846838e-02, 9.52715316e-01],\n",
       "       [5.99329650e-01, 4.00670350e-01],\n",
       "       [4.83050520e-02, 9.51694948e-01],\n",
       "       [6.02018462e-01, 3.97981538e-01],\n",
       "       [1.12914546e-01, 8.87085454e-01],\n",
       "       [2.09380252e-02, 9.79061975e-01],\n",
       "       [8.30785547e-01, 1.69214453e-01],\n",
       "       [6.99542437e-01, 3.00457563e-01],\n",
       "       [8.18678711e-03, 9.91813213e-01],\n",
       "       [5.75026815e-01, 4.24973185e-01],\n",
       "       [1.53116039e-01, 8.46883961e-01],\n",
       "       [4.37438901e-01, 5.62561099e-01],\n",
       "       [3.20429630e-01, 6.79570370e-01],\n",
       "       [3.75109474e-01, 6.24890526e-01],\n",
       "       [1.06768057e-02, 9.89323194e-01],\n",
       "       [5.10536553e-01, 4.89463447e-01],\n",
       "       [4.39891460e-01, 5.60108540e-01],\n",
       "       [6.54451355e-01, 3.45548645e-01],\n",
       "       [1.27184999e-01, 8.72815001e-01],\n",
       "       [8.18801068e-01, 1.81198932e-01],\n",
       "       [4.46947564e-01, 5.53052436e-01],\n",
       "       [6.37456100e-04, 9.99362544e-01],\n",
       "       [7.56986494e-01, 2.43013506e-01],\n",
       "       [5.68250383e-03, 9.94317496e-01],\n",
       "       [3.40043730e-04, 9.99659956e-01],\n",
       "       [8.60144398e-01, 1.39855602e-01],\n",
       "       [4.79760740e-01, 5.20239260e-01],\n",
       "       [8.09441680e-02, 9.19055832e-01],\n",
       "       [2.48513403e-02, 9.75148660e-01],\n",
       "       [6.03566716e-01, 3.96433284e-01],\n",
       "       [6.01022339e-01, 3.98977661e-01],\n",
       "       [1.85891746e-02, 9.81410825e-01],\n",
       "       [1.23908833e-02, 9.87609117e-01],\n",
       "       [8.59786279e-01, 1.40213721e-01],\n",
       "       [1.23350502e-01, 8.76649498e-01],\n",
       "       [1.79198161e-02, 9.82080184e-01],\n",
       "       [5.11050021e-02, 9.48894998e-01],\n",
       "       [3.46458251e-03, 9.96535417e-01],\n",
       "       [6.52271440e-01, 3.47728560e-01],\n",
       "       [7.94230036e-01, 2.05769964e-01],\n",
       "       [4.05554695e-01, 5.94445305e-01],\n",
       "       [7.89407188e-01, 2.10592812e-01],\n",
       "       [6.91553315e-05, 9.99930845e-01],\n",
       "       [2.07346055e-01, 7.92653945e-01],\n",
       "       [5.02904192e-01, 4.97095808e-01],\n",
       "       [2.06013183e-02, 9.79398682e-01],\n",
       "       [6.50419574e-01, 3.49580426e-01],\n",
       "       [4.06606589e-01, 5.93393411e-01],\n",
       "       [5.19527099e-03, 9.94804729e-01],\n",
       "       [5.44945524e-01, 4.55054476e-01],\n",
       "       [3.74310919e-02, 9.62568908e-01],\n",
       "       [9.20884038e-02, 9.07911596e-01],\n",
       "       [6.85885821e-01, 3.14114179e-01],\n",
       "       [1.02591889e-03, 9.98974081e-01],\n",
       "       [5.02589509e-01, 4.97410491e-01],\n",
       "       [2.23494704e-03, 9.97765053e-01],\n",
       "       [4.58022820e-03, 9.95419772e-01]])"
      ]
     },
     "execution_count": 32,
     "metadata": {},
     "output_type": "execute_result"
    }
   ],
   "source": [
    "logreg_result.predict_proba(X_train_scaled)"
   ]
  },
  {
   "cell_type": "code",
   "execution_count": 33,
   "metadata": {
    "_uuid": "a46ccac9e40ef9fd66340ec61791f61cf4441d38",
    "colab": {},
    "colab_type": "code",
    "id": "vp4lGH-FbuA_",
    "outputId": "d6947d2c-0405-4d8c-98f1-888f5b19fe37"
   },
   "outputs": [
    {
     "name": "stdout",
     "output_type": "stream",
     "text": [
      "Optimization terminated successfully.\n",
      "         Current function value: 0.523708\n",
      "         Iterations 6\n",
      "                           Logit Regression Results                           \n",
      "==============================================================================\n",
      "Dep. Variable:                 Status   No. Observations:                  217\n",
      "Model:                          Logit   Df Residuals:                      214\n",
      "Method:                           MLE   Df Model:                            2\n",
      "Date:                Tue, 07 Jul 2020   Pseudo R-squ.:                  0.1475\n",
      "Time:                        09:41:53   Log-Likelihood:                -113.64\n",
      "converged:                       True   LL-Null:                       -133.31\n",
      "Covariance Type:            nonrobust   LLR p-value:                 2.877e-09\n",
      "==============================================================================\n",
      "                 coef    std err          z      P>|z|      [0.025      0.975]\n",
      "------------------------------------------------------------------------------\n",
      "x1            -0.4271      0.238     -1.793      0.073      -0.894       0.040\n",
      "x2            -0.7875      0.194     -4.057      0.000      -1.168      -0.407\n",
      "x3             1.5717      0.297      5.286      0.000       0.989       2.154\n",
      "==============================================================================\n"
     ]
    }
   ],
   "source": [
    "logit_model=sm.Logit(y_train,X_train_scaled)\n",
    "result=logit_model.fit()\n",
    "print(result.summary())"
   ]
  },
  {
   "cell_type": "markdown",
   "metadata": {
    "_uuid": "e17e37ad8fcbce617849d697ba3a611bbcca9e9d",
    "colab_type": "text",
    "id": "o19anNYvbuBC"
   },
   "source": [
    "## Interpreting the causative power of the predictors\n",
    "\n",
    "- Now that we have decided on our final model, let us interpret the co-efficient estimates of the three predictor variables from the above statistical summary. \n",
    "    - Both lumbar_lordosis_angle and pelvic_radius have a negative co-efficient indicating that for every unit increase in the values of these variables, the log of odds of the Status being Abnormal decreases. \n",
    "    - degree_spondylolisthesis has a positive relationship with Abnormal status i.e for every unit increase in the value of degree_spondylolisthesis the log of odds of the Status being Abnormal increases."
   ]
  },
  {
   "cell_type": "markdown",
   "metadata": {
    "_uuid": "e1de7804dfdc4a26184727bcbb38af7c9e0f8efa",
    "colab_type": "text",
    "id": "uLi9PcS7buBF"
   },
   "source": [
    "## Sensitivity and Specificity\n",
    "\n",
    "From the confusion matrix, we can calculate the Sensitivity True Positive/ (True positive + False Negative) and Specificity - True Negative / (True Negative + False Positive). \n",
    "Sensitivity = 74.6% and Specificity = 76.6%\n",
    "\n",
    "I am not quite sure in this specific problem context, which one should be given more importance (or should have a higher value). "
   ]
  },
  {
   "cell_type": "code",
   "execution_count": 34,
   "metadata": {},
   "outputs": [
    {
     "name": "stdout",
     "output_type": "stream",
     "text": [
      "[[22 12]\n",
      " [ 2 57]]\n"
     ]
    }
   ],
   "source": [
    "from sklearn.metrics import confusion_matrix\n",
    "# assigning the model predicted values to y_pred\n",
    "y_pred = logreg_result.predict(X_test_scaled)\n",
    "confusion_matrix_LR = confusion_matrix(y_test, y_pred)\n",
    "print(confusion_matrix_LR)"
   ]
  },
  {
   "cell_type": "code",
   "execution_count": 35,
   "metadata": {},
   "outputs": [
    {
     "name": "stdout",
     "output_type": "stream",
     "text": [
      "              precision    recall  f1-score   support\n",
      "\n",
      "           0       0.92      0.65      0.76        34\n",
      "           1       0.83      0.97      0.89        59\n",
      "\n",
      "    accuracy                           0.85        93\n",
      "   macro avg       0.87      0.81      0.82        93\n",
      "weighted avg       0.86      0.85      0.84        93\n",
      "\n"
     ]
    }
   ],
   "source": [
    "from sklearn.metrics import classification_report\n",
    "print(classification_report(y_test, y_pred))"
   ]
  },
  {
   "cell_type": "code",
   "execution_count": 51,
   "metadata": {},
   "outputs": [
    {
     "data": {
      "image/png": "[encoded data removed]",
      "text/plain": [
       "<Figure size 432x288 with 1 Axes>"
      ]
     },
     "metadata": {
      "needs_background": "light"
     },
     "output_type": "display_data"
    }
   ],
   "source": [
    "from sklearn import metrics\n",
    "from sklearn.metrics import  roc_curve\n",
    "y_pred_proba = logreg_result.predict_proba(X_test_scaled)[::,1]\n",
    "fpr1, tpr1, _ = metrics.roc_curve(y_test,  y_pred_proba)\n",
    "auc1 = metrics.roc_auc_score(y_test, y_pred_proba)\n",
    "plt.plot(fpr1,tpr1,label=\"data 1, auc=\"+str(auc))\n",
    "plt.legend(loc=4)\n",
    "plt.show()"
   ]
  },
  {
   "cell_type": "markdown",
   "metadata": {},
   "source": [
    "### Generate Decision Tree classifier"
   ]
  },
  {
   "cell_type": "code",
   "execution_count": 37,
   "metadata": {},
   "outputs": [
    {
     "data": {
      "text/plain": [
       "DecisionTreeClassifier(class_weight=None, criterion='gini', max_depth=None,\n",
       "                       max_features=None, max_leaf_nodes=None,\n",
       "                       min_impurity_decrease=0.0, min_impurity_split=None,\n",
       "                       min_samples_leaf=1, min_samples_split=2,\n",
       "                       min_weight_fraction_leaf=0.0, presort=False,\n",
       "                       random_state=None, splitter='best')"
      ]
     },
     "execution_count": 37,
     "metadata": {},
     "output_type": "execute_result"
    }
   ],
   "source": [
    "from sklearn.tree import DecisionTreeClassifier\n",
    "DT_model = DecisionTreeClassifier()\n",
    "DT_model.fit(X_train_scaled,y_train)"
   ]
  },
  {
   "cell_type": "code",
   "execution_count": 38,
   "metadata": {},
   "outputs": [
    {
     "name": "stdout",
     "output_type": "stream",
     "text": [
      "Decision Tree Classifier report \n",
      "               precision    recall  f1-score   support\n",
      "\n",
      "           0       0.91      0.62      0.74        34\n",
      "           1       0.81      0.97      0.88        59\n",
      "\n",
      "    accuracy                           0.84        93\n",
      "   macro avg       0.86      0.79      0.81        93\n",
      "weighted avg       0.85      0.84      0.83        93\n",
      "\n"
     ]
    }
   ],
   "source": [
    "y_pred=DT_model.predict(X_test_scaled)\n",
    "print(\"Decision Tree Classifier report \\n\", classification_report(y_test, y_pred))"
   ]
  },
  {
   "cell_type": "code",
   "execution_count": 39,
   "metadata": {},
   "outputs": [
    {
     "name": "stdout",
     "output_type": "stream",
     "text": [
      "[[21 13]\n",
      " [ 2 57]]\n"
     ]
    }
   ],
   "source": [
    "confusion_matrix_DT = confusion_matrix(y_test, y_pred)\n",
    "print(confusion_matrix_DT)"
   ]
  },
  {
   "cell_type": "code",
   "execution_count": 40,
   "metadata": {},
   "outputs": [
    {
     "name": "stdout",
     "output_type": "stream",
     "text": [
      "Accuracy: 0.8387096774193549\n",
      "Precision: 0.8142857142857143\n",
      "Recall: 0.9661016949152542\n"
     ]
    }
   ],
   "source": [
    "print(\"Accuracy:\",metrics.accuracy_score(y_test, y_pred))\n",
    "print(\"Precision:\",metrics.precision_score(y_test, y_pred))\n",
    "print(\"Recall:\",metrics.recall_score(y_test, y_pred))"
   ]
  },
  {
   "cell_type": "markdown",
   "metadata": {},
   "source": [
    "High recall indicates model is good to predict the abnormal backpains if it exist. The moderate accuracy indicates that, there can wrong prediction of abnormal backpain. "
   ]
  },
  {
   "cell_type": "code",
   "execution_count": 52,
   "metadata": {},
   "outputs": [
    {
     "data": {
      "image/png": "[encoded data removed]",
      "text/plain": [
       "<Figure size 432x288 with 1 Axes>"
      ]
     },
     "metadata": {
      "needs_background": "light"
     },
     "output_type": "display_data"
    }
   ],
   "source": [
    "y_pred_proba = DT_model.predict_proba(X_test_scaled)[::,1]\n",
    "fpr2, tpr2, _ = metrics.roc_curve(y_test,  y_pred_proba)\n",
    "auc2 = metrics.roc_auc_score(y_test, y_pred_proba)\n",
    "plt.plot(fpr2,tpr2,label=\"data 1, auc=\"+str(auc2))\n",
    "plt.legend(loc=4)\n",
    "plt.show()"
   ]
  },
  {
   "cell_type": "code",
   "execution_count": 42,
   "metadata": {},
   "outputs": [
    {
     "data": {
      "text/plain": [
       "279"
      ]
     },
     "execution_count": 42,
     "metadata": {},
     "output_type": "execute_result"
    }
   ],
   "source": [
    "X_test_scaled.size"
   ]
  },
  {
   "cell_type": "markdown",
   "metadata": {},
   "source": [
    "### Generate RandomForrest Classifier"
   ]
  },
  {
   "cell_type": "code",
   "execution_count": 85,
   "metadata": {},
   "outputs": [
    {
     "name": "stderr",
     "output_type": "stream",
     "text": [
      "C:\\ProgramData\\Anaconda3\\lib\\site-packages\\ipykernel_launcher.py:6: DataConversionWarning: A column-vector y was passed when a 1d array was expected. Please change the shape of y to (n_samples,), for example using ravel().\n",
      "  \n"
     ]
    },
    {
     "data": {
      "text/plain": [
       "RandomForestClassifier(bootstrap=True, class_weight=None, criterion='gini',\n",
       "                       max_depth=None, max_features='auto', max_leaf_nodes=None,\n",
       "                       min_impurity_decrease=0.0, min_impurity_split=None,\n",
       "                       min_samples_leaf=1, min_samples_split=2,\n",
       "                       min_weight_fraction_leaf=0.0, n_estimators=1000,\n",
       "                       n_jobs=None, oob_score=False, random_state=42, verbose=0,\n",
       "                       warm_start=False)"
      ]
     },
     "execution_count": 85,
     "metadata": {},
     "output_type": "execute_result"
    }
   ],
   "source": [
    "# Import the model we are using\n",
    "from sklearn.ensemble import RandomForestClassifier\n",
    "# Instantiate model with 1000 decision trees\n",
    "rf = RandomForestClassifier(n_estimators = 1000, random_state = 42)\n",
    "# Train the model on training data\n",
    "rf.fit(X_train_scaled, y_train);\n",
    "rf"
   ]
  },
  {
   "cell_type": "code",
   "execution_count": 88,
   "metadata": {},
   "outputs": [],
   "source": [
    "y_pred = rf.predict(X_test_scaled)"
   ]
  },
  {
   "cell_type": "code",
   "execution_count": 90,
   "metadata": {},
   "outputs": [
    {
     "name": "stdout",
     "output_type": "stream",
     "text": [
      "Accuracy: 0.8387096774193549\n",
      "Precision: 0.8142857142857143\n",
      "Recall: 0.9661016949152542\n"
     ]
    }
   ],
   "source": [
    "print(\"Accuracy:\",metrics.accuracy_score(y_test, y_pred))\n",
    "print(\"Precision:\",metrics.precision_score(y_test, y_pred))\n",
    "print(\"Recall:\",metrics.recall_score(y_test, y_pred))"
   ]
  },
  {
   "cell_type": "code",
   "execution_count": 91,
   "metadata": {},
   "outputs": [
    {
     "data": {
      "image/png": "[encoded data removed]",
      "text/plain": [
       "<Figure size 432x288 with 1 Axes>"
      ]
     },
     "metadata": {
      "needs_background": "light"
     },
     "output_type": "display_data"
    }
   ],
   "source": [
    "y_pred_proba =rf.predict_proba(X_test_scaled)[::,1]\n",
    "fpr3, tpr3, _ = metrics.roc_curve(y_test,  y_pred_proba)\n",
    "auc3 = metrics.roc_auc_score(y_test, y_pred_proba)\n",
    "plt.plot(fpr3,tpr3,label=\"data 1, auc=\"+str(auc3))\n",
    "plt.legend(loc=4)\n",
    "plt.show()"
   ]
  },
  {
   "cell_type": "code",
   "execution_count": 55,
   "metadata": {},
   "outputs": [
    {
     "data": {
      "image/png": "[encoded data removed]",
      "text/plain": [
       "<Figure size 432x288 with 1 Axes>"
      ]
     },
     "metadata": {
      "needs_background": "light"
     },
     "output_type": "display_data"
    }
   ],
   "source": [
    "# roc curve for tpr = fpr \n",
    "random_probs = [0 for i in range(len(y_test))]\n",
    "p_fpr, p_tpr, _ = roc_curve(y_test, random_probs, pos_label=1)\n",
    "plt.plot(fpr1, tpr1, linestyle='--',color='orange', label='Logistic Regression auc='+str(auc1))\n",
    "plt.plot(fpr2, tpr2, linestyle='--',color='green', label='Decision Tree auc='+str(auc2))\n",
    "plt.plot(fpr3, tpr3, linestyle='--',color='red', label='Random Forest auc='+str(auc3))\n",
    "plt.plot(p_fpr, p_tpr, linestyle='--', color='blue')\n",
    "plt.legend(loc=4)\n",
    "plt.show()"
   ]
  },
  {
   "cell_type": "code",
   "execution_count": 1,
   "metadata": {},
   "outputs": [],
   "source": [
    "#Conclusion: Logistic Regression is the best classifier"
   ]
  },
  {
   "cell_type": "markdown",
   "metadata": {},
   "source": [
    "### Decision Tree Hyperparameter tuning with Grid Search CV"
   ]
  },
  {
   "cell_type": "code",
   "execution_count": 92,
   "metadata": {},
   "outputs": [
    {
     "name": "stderr",
     "output_type": "stream",
     "text": [
      "C:\\ProgramData\\Anaconda3\\lib\\site-packages\\sklearn\\model_selection\\_search.py:814: DeprecationWarning: The default of the `iid` parameter will change from True to False in version 0.22 and will be removed in 0.24. This will change numeric results when test-set sizes are unequal.\n",
      "  DeprecationWarning)\n"
     ]
    },
    {
     "data": {
      "text/plain": [
       "GridSearchCV(cv=5, error_score='raise-deprecating',\n",
       "             estimator=DecisionTreeClassifier(class_weight=None,\n",
       "                                              criterion='gini', max_depth=None,\n",
       "                                              max_features=None,\n",
       "                                              max_leaf_nodes=None,\n",
       "                                              min_impurity_decrease=0.0,\n",
       "                                              min_impurity_split=None,\n",
       "                                              min_samples_leaf=1,\n",
       "                                              min_samples_split=2,\n",
       "                                              min_weight_fraction_leaf=0.0,\n",
       "                                              presort=False, random_state=10,\n",
       "                                              splitter='best'),\n",
       "             iid='warn', n_jobs=None,\n",
       "             param_grid={'criterion': ['gini', 'entropy'],\n",
       "                         'max_depth': [4, 6, 7, 8, 9, 12],\n",
       "                         'max_leaf_nodes': [10, 12, 13, 14, 15],\n",
       "                         'min_samples_split': [2, 3, 4]},\n",
       "             pre_dispatch='2*n_jobs', refit=True, return_train_score=False,\n",
       "             scoring='roc_auc', verbose=0)"
      ]
     },
     "execution_count": 92,
     "metadata": {},
     "output_type": "execute_result"
    }
   ],
   "source": [
    "from sklearn.model_selection import GridSearchCV, cross_val_score\n",
    "parameters = dict (criterion = ['gini', 'entropy'], max_depth = [4,6,7,8,9,12],max_leaf_nodes= [10,12,13,14,15],\n",
    "min_samples_split =[2, 3, 4])\n",
    "dt = DecisionTreeClassifier(random_state =10)\n",
    "model = GridSearchCV(dt, parameters,cv =5,scoring = 'roc_auc')\n",
    "model.fit(X_train_scaled,y_train)\n"
   ]
  },
  {
   "cell_type": "code",
   "execution_count": 94,
   "metadata": {},
   "outputs": [
    {
     "name": "stdout",
     "output_type": "stream",
     "text": [
      "Best Criterion: {'class_weight': None, 'criterion': 'entropy', 'max_depth': 8, 'max_features': None, 'max_leaf_nodes': 15, 'min_impurity_decrease': 0.0, 'min_impurity_split': None, 'min_samples_leaf': 1, 'min_samples_split': 2, 'min_weight_fraction_leaf': 0.0, 'presort': False, 'random_state': 10, 'splitter': 'best'}\n"
     ]
    }
   ],
   "source": [
    "    print('Best Criterion:', model.best_estimator_.get_params())"
   ]
  },
  {
   "cell_type": "code",
   "execution_count": 98,
   "metadata": {},
   "outputs": [
    {
     "data": {
      "text/plain": [
       "DecisionTreeClassifier(class_weight=None, criterion='entropy', max_depth=8,\n",
       "                       max_features=None, max_leaf_nodes=15,\n",
       "                       min_impurity_decrease=0.0, min_impurity_split=None,\n",
       "                       min_samples_leaf=1, min_samples_split=4,\n",
       "                       min_weight_fraction_leaf=0.0, presort=False,\n",
       "                       random_state=10, splitter='best')"
      ]
     },
     "execution_count": 98,
     "metadata": {},
     "output_type": "execute_result"
    }
   ],
   "source": [
    "DT_best= DecisionTreeClassifier(criterion ='entropy', max_depth =8, max_leaf_nodes=15, min_samples_leaf= 1,min_samples_split= 4, random_state= 10)\n",
    "DT_best.fit(X_train_scaled, y_train)"
   ]
  },
  {
   "cell_type": "code",
   "execution_count": 99,
   "metadata": {},
   "outputs": [
    {
     "name": "stdout",
     "output_type": "stream",
     "text": [
      "[[26  8]\n",
      " [ 5 54]]\n"
     ]
    }
   ],
   "source": [
    "y_pred = DT_best.predict(X_test_scaled)\n",
    "confusion_matrix_DT = confusion_matrix(y_test, y_pred)\n",
    "print(confusion_matrix_DT)"
   ]
  },
  {
   "cell_type": "code",
   "execution_count": 100,
   "metadata": {},
   "outputs": [
    {
     "data": {
      "image/png": "[encoded data removed]",
      "text/plain": [
       "<Figure size 432x288 with 1 Axes>"
      ]
     },
     "metadata": {
      "needs_background": "light"
     },
     "output_type": "display_data"
    }
   ],
   "source": [
    "y_pred_proba =DT_best.predict_proba(X_test_scaled)[::,1]\n",
    "fpr4, tpr4, _ = metrics.roc_curve(y_test,  y_pred_proba)\n",
    "auc4 = metrics.roc_auc_score(y_test, y_pred_proba)\n",
    "plt.plot(fpr4,tpr4,label=\"data 1, auc=\"+str(auc4))\n",
    "plt.legend(loc=4)\n",
    "plt.show()"
   ]
  },
  {
   "cell_type": "markdown",
   "metadata": {},
   "source": [
    "### Decision Tree Hyperparameter tuning with RandomizedSearchCV"
   ]
  },
  {
   "cell_type": "code",
   "execution_count": 101,
   "metadata": {},
   "outputs": [
    {
     "name": "stderr",
     "output_type": "stream",
     "text": [
      "C:\\ProgramData\\Anaconda3\\lib\\site-packages\\sklearn\\model_selection\\_search.py:814: DeprecationWarning: The default of the `iid` parameter will change from True to False in version 0.22 and will be removed in 0.24. This will change numeric results when test-set sizes are unequal.\n",
      "  DeprecationWarning)\n"
     ]
    },
    {
     "data": {
      "text/plain": [
       "RandomizedSearchCV(cv=5, error_score='raise-deprecating',\n",
       "                   estimator=DecisionTreeClassifier(class_weight=None,\n",
       "                                                    criterion='gini',\n",
       "                                                    max_depth=None,\n",
       "                                                    max_features=None,\n",
       "                                                    max_leaf_nodes=None,\n",
       "                                                    min_impurity_decrease=0.0,\n",
       "                                                    min_impurity_split=None,\n",
       "                                                    min_samples_leaf=1,\n",
       "                                                    min_samples_split=2,\n",
       "                                                    min_weight_fraction_leaf=0.0,\n",
       "                                                    presort=False,\n",
       "                                                    random_state=10,\n",
       "                                                    splitter='best'),\n",
       "                   iid='warn', n_iter=10, n_jobs=None,\n",
       "                   param_distributions={'criterion': ['gini', 'entropy'],\n",
       "                                        'max_depth': [4, 6, 7, 8, 9, 12],\n",
       "                                        'max_leaf_nodes': [10, 12, 13, 14, 15],\n",
       "                                        'min_samples_split': [2, 3, 4]},\n",
       "                   pre_dispatch='2*n_jobs', random_state=None, refit=True,\n",
       "                   return_train_score=False, scoring='roc_auc', verbose=0)"
      ]
     },
     "execution_count": 101,
     "metadata": {},
     "output_type": "execute_result"
    }
   ],
   "source": [
    "from sklearn.model_selection import RandomizedSearchCV\n",
    "RS_model = RandomizedSearchCV(dt, parameters,cv =5,scoring = 'roc_auc')\n",
    "RS_model.fit(X_train_scaled,y_train)"
   ]
  },
  {
   "cell_type": "code",
   "execution_count": 102,
   "metadata": {},
   "outputs": [
    {
     "name": "stdout",
     "output_type": "stream",
     "text": [
      "Best Criterion: {'class_weight': None, 'criterion': 'entropy', 'max_depth': 7, 'max_features': None, 'max_leaf_nodes': 14, 'min_impurity_decrease': 0.0, 'min_impurity_split': None, 'min_samples_leaf': 1, 'min_samples_split': 4, 'min_weight_fraction_leaf': 0.0, 'presort': False, 'random_state': 10, 'splitter': 'best'}\n"
     ]
    }
   ],
   "source": [
    "print('Best Criterion:', RS_model.best_estimator_.get_params())"
   ]
  },
  {
   "cell_type": "code",
   "execution_count": 103,
   "metadata": {},
   "outputs": [
    {
     "data": {
      "text/plain": [
       "{'min_samples_split': 4,\n",
       " 'max_leaf_nodes': 14,\n",
       " 'max_depth': 7,\n",
       " 'criterion': 'entropy'}"
      ]
     },
     "execution_count": 103,
     "metadata": {},
     "output_type": "execute_result"
    }
   ],
   "source": [
    "RS_model.best_params_"
   ]
  },
  {
   "cell_type": "code",
   "execution_count": 104,
   "metadata": {},
   "outputs": [
    {
     "data": {
      "text/plain": [
       "DecisionTreeClassifier(class_weight=None, criterion='entropy', max_depth=7,\n",
       "                       max_features=None, max_leaf_nodes=14,\n",
       "                       min_impurity_decrease=0.0, min_impurity_split=None,\n",
       "                       min_samples_leaf=1, min_samples_split=4,\n",
       "                       min_weight_fraction_leaf=0.0, presort=False,\n",
       "                       random_state=10, splitter='best')"
      ]
     },
     "execution_count": 104,
     "metadata": {},
     "output_type": "execute_result"
    }
   ],
   "source": [
    "DT_best1= DecisionTreeClassifier(criterion ='entropy', max_depth =7, max_leaf_nodes=14, min_samples_leaf= 1,min_samples_split= 4, random_state= 10)\n",
    "DT_best1.fit(X_train_scaled, y_train)"
   ]
  },
  {
   "cell_type": "code",
   "execution_count": 105,
   "metadata": {},
   "outputs": [
    {
     "name": "stdout",
     "output_type": "stream",
     "text": [
      "[[26  8]\n",
      " [ 6 53]]\n"
     ]
    }
   ],
   "source": [
    "y_pred = DT_best1.predict(X_test_scaled)\n",
    "confusion_matrix_DT = confusion_matrix(y_test, y_pred)\n",
    "print(confusion_matrix_DT)"
   ]
  },
  {
   "cell_type": "code",
   "execution_count": 106,
   "metadata": {},
   "outputs": [
    {
     "data": {
      "image/png": "[encoded data removed]",
      "text/plain": [
       "<Figure size 432x288 with 1 Axes>"
      ]
     },
     "metadata": {
      "needs_background": "light"
     },
     "output_type": "display_data"
    }
   ],
   "source": [
    "y_pred_proba =DT_best1.predict_proba(X_test_scaled)[::,1]\n",
    "fpr5, tpr5, _ = metrics.roc_curve(y_test,  y_pred_proba)\n",
    "auc5 = metrics.roc_auc_score(y_test, y_pred_proba)\n",
    "plt.plot(fpr5,tpr5,label=\"data 1, auc=\"+str(auc5))\n",
    "plt.legend(loc=4)\n",
    "plt.show()"
   ]
  },
  {
   "cell_type": "code",
   "execution_count": 83,
   "metadata": {},
   "outputs": [
    {
     "data": {
      "image/png": "[encoded data removed]",
      "text/plain": [
       "<Figure size 432x288 with 1 Axes>"
      ]
     },
     "metadata": {
      "needs_background": "light"
     },
     "output_type": "display_data"
    }
   ],
   "source": [
    "plt.plot(fpr4,tpr4,color = 'red',label=\"GirdSearchCV, auc=\"+str(auc4))\n",
    "plt.plot(fpr5,tpr5,color = 'blue',label=\"RandomSearchCV, auc=\"+str(auc5))\n",
    "plt.legend(loc=4)\n",
    "plt.show()"
   ]
  },
  {
   "cell_type": "code",
   "execution_count": 2,
   "metadata": {},
   "outputs": [],
   "source": [
    "#Conclusion:both way of hyperparameter tuning give similar AUC"
   ]
  },
  {
   "cell_type": "code",
   "execution_count": 66,
   "metadata": {},
   "outputs": [
    {
     "name": "stdout",
     "output_type": "stream",
     "text": [
      "\n",
      "[0.859447   0.91923077 0.81153846 0.80128205 0.92435897]\n",
      "\n",
      "0.8631714522037102\n",
      "\n",
      "0.051762332007767475\n"
     ]
    }
   ],
   "source": [
    "    # Use Cross Validation To Evaluate Model\n",
    "    CV_Result = cross_val_score(model, X_train_scaled, y_train, cv=5, n_jobs=-1)\n",
    "    print(); print(CV_Result)\n",
    "    print(); print(CV_Result.mean())\n",
    "    print(); print(CV_Result.std())"
   ]
  },
  {
   "cell_type": "code",
   "execution_count": 3,
   "metadata": {},
   "outputs": [],
   "source": [
    "#Conclusion: 1)Biased error of model:0.14 2)Variance Error:0.05"
   ]
  }
 ],
 "metadata": {
  "colab": {
   "name": "Inclass_Labexercise_Solution-Day01.ipynb",
   "provenance": [],
   "version": "0.3.2"
  },
  "kernelspec": {
   "display_name": "Python 3",
   "language": "python",
   "name": "python3"
  },
  "language_info": {
   "codemirror_mode": {
    "name": "ipython",
    "version": 3
   },
   "file_extension": ".py",
   "mimetype": "text/x-python",
   "name": "python",
   "nbconvert_exporter": "python",
   "pygments_lexer": "ipython3",
   "version": "3.7.4"
  }
 },
 "nbformat": 4,
 "nbformat_minor": 1
}
